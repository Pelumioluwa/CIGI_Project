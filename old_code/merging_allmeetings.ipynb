{
 "cells": [
  {
   "cell_type": "markdown",
   "metadata": {},
   "source": [
    "## This books takes all the meetings in each session and merges into a single csv file"
   ]
  },
  {
   "cell_type": "code",
   "execution_count": 1,
   "metadata": {},
   "outputs": [],
   "source": [
    "import pandas as pd"
   ]
  },
  {
   "cell_type": "markdown",
   "metadata": {},
   "source": [
    "## Reading data in session 1"
   ]
  },
  {
   "cell_type": "code",
   "execution_count": 2,
   "metadata": {},
   "outputs": [
    {
     "data": {
      "text/html": [
       "<div>\n",
       "<style scoped>\n",
       "    .dataframe tbody tr th:only-of-type {\n",
       "        vertical-align: middle;\n",
       "    }\n",
       "\n",
       "    .dataframe tbody tr th {\n",
       "        vertical-align: top;\n",
       "    }\n",
       "\n",
       "    .dataframe thead th {\n",
       "        text-align: right;\n",
       "    }\n",
       "</style>\n",
       "<table border=\"1\" class=\"dataframe\">\n",
       "  <thead>\n",
       "    <tr style=\"text-align: right;\">\n",
       "      <th></th>\n",
       "      <th>Id</th>\n",
       "      <th>Session</th>\n",
       "      <th>Meeting</th>\n",
       "      <th>Speaker</th>\n",
       "      <th>Text</th>\n",
       "    </tr>\n",
       "  </thead>\n",
       "  <tbody>\n",
       "    <tr>\n",
       "      <th>0</th>\n",
       "      <td>S1M11</td>\n",
       "      <td>1</td>\n",
       "      <td>1</td>\n",
       "      <td>﻿Chairman</td>\n",
       "      <td>Excellencies. I am pleased to declare the firs...</td>\n",
       "    </tr>\n",
       "    <tr>\n",
       "      <th>1</th>\n",
       "      <td>S1M12</td>\n",
       "      <td>1</td>\n",
       "      <td>1</td>\n",
       "      <td>Chile</td>\n",
       "      <td>Before going to the logistics and the backgrou...</td>\n",
       "    </tr>\n",
       "    <tr>\n",
       "      <th>2</th>\n",
       "      <td>S1M13</td>\n",
       "      <td>1</td>\n",
       "      <td>1</td>\n",
       "      <td>Russia</td>\n",
       "      <td>Thank you, Mr. President. I will now ask for t...</td>\n",
       "    </tr>\n",
       "    <tr>\n",
       "      <th>3</th>\n",
       "      <td>S1M14</td>\n",
       "      <td>1</td>\n",
       "      <td>1</td>\n",
       "      <td>Chairman</td>\n",
       "      <td>Thank you for your attention. I thank the repr...</td>\n",
       "    </tr>\n",
       "    <tr>\n",
       "      <th>4</th>\n",
       "      <td>S1M15</td>\n",
       "      <td>1</td>\n",
       "      <td>1</td>\n",
       "      <td>Cuba</td>\n",
       "      <td>Cuba representative, please. Thank you, Presid...</td>\n",
       "    </tr>\n",
       "  </tbody>\n",
       "</table>\n",
       "</div>"
      ],
      "text/plain": [
       "      Id  Session  Meeting    Speaker  \\\n",
       "0  S1M11        1        1  ﻿Chairman   \n",
       "1  S1M12        1        1      Chile   \n",
       "2  S1M13        1        1     Russia   \n",
       "3  S1M14        1        1   Chairman   \n",
       "4  S1M15        1        1       Cuba   \n",
       "\n",
       "                                                Text  \n",
       "0  Excellencies. I am pleased to declare the firs...  \n",
       "1  Before going to the logistics and the backgrou...  \n",
       "2  Thank you, Mr. President. I will now ask for t...  \n",
       "3  Thank you for your attention. I thank the repr...  \n",
       "4  Cuba representative, please. Thank you, Presid...  "
      ]
     },
     "execution_count": 2,
     "metadata": {},
     "output_type": "execute_result"
    }
   ],
   "source": [
    "#read the first session and first meeting\n",
    "df = pd.read_csv('Session_one/Meeting1.csv')\n",
    "df.head()"
   ]
  },
  {
   "cell_type": "code",
   "execution_count": 3,
   "metadata": {},
   "outputs": [
    {
     "data": {
      "text/html": [
       "<div>\n",
       "<style scoped>\n",
       "    .dataframe tbody tr th:only-of-type {\n",
       "        vertical-align: middle;\n",
       "    }\n",
       "\n",
       "    .dataframe tbody tr th {\n",
       "        vertical-align: top;\n",
       "    }\n",
       "\n",
       "    .dataframe thead th {\n",
       "        text-align: right;\n",
       "    }\n",
       "</style>\n",
       "<table border=\"1\" class=\"dataframe\">\n",
       "  <thead>\n",
       "    <tr style=\"text-align: right;\">\n",
       "      <th></th>\n",
       "      <th>Id</th>\n",
       "      <th>Session</th>\n",
       "      <th>Meeting</th>\n",
       "      <th>Speaker</th>\n",
       "      <th>Text</th>\n",
       "    </tr>\n",
       "  </thead>\n",
       "  <tbody>\n",
       "    <tr>\n",
       "      <th>0</th>\n",
       "      <td>S1M21</td>\n",
       "      <td>1</td>\n",
       "      <td>2</td>\n",
       "      <td>﻿Chairman</td>\n",
       "      <td>We will continue to do formal procedural work....</td>\n",
       "    </tr>\n",
       "    <tr>\n",
       "      <th>1</th>\n",
       "      <td>S1M22</td>\n",
       "      <td>1</td>\n",
       "      <td>2</td>\n",
       "      <td>Secretary</td>\n",
       "      <td>Thank you, Mr. President. I have a request for...</td>\n",
       "    </tr>\n",
       "    <tr>\n",
       "      <th>2</th>\n",
       "      <td>S1M23</td>\n",
       "      <td>1</td>\n",
       "      <td>2</td>\n",
       "      <td>United States</td>\n",
       "      <td>President, representatives of all the represen...</td>\n",
       "    </tr>\n",
       "    <tr>\n",
       "      <th>3</th>\n",
       "      <td>S1M24</td>\n",
       "      <td>1</td>\n",
       "      <td>2</td>\n",
       "      <td>Hong</td>\n",
       "      <td>Mr. President and Representative Hong. First o...</td>\n",
       "    </tr>\n",
       "    <tr>\n",
       "      <th>4</th>\n",
       "      <td>S1M25</td>\n",
       "      <td>1</td>\n",
       "      <td>2</td>\n",
       "      <td>Chairman</td>\n",
       "      <td>Thank you very much. I thank the representativ...</td>\n",
       "    </tr>\n",
       "  </tbody>\n",
       "</table>\n",
       "</div>"
      ],
      "text/plain": [
       "      Id  Session  Meeting        Speaker  \\\n",
       "0  S1M21        1        2      ﻿Chairman   \n",
       "1  S1M22        1        2      Secretary   \n",
       "2  S1M23        1        2  United States   \n",
       "3  S1M24        1        2           Hong   \n",
       "4  S1M25        1        2       Chairman   \n",
       "\n",
       "                                                Text  \n",
       "0  We will continue to do formal procedural work....  \n",
       "1  Thank you, Mr. President. I have a request for...  \n",
       "2  President, representatives of all the represen...  \n",
       "3  Mr. President and Representative Hong. First o...  \n",
       "4  Thank you very much. I thank the representativ...  "
      ]
     },
     "execution_count": 3,
     "metadata": {},
     "output_type": "execute_result"
    }
   ],
   "source": [
    "#read meeting 2 in a data frame 2\n",
    "df2 = pd.read_csv('Session_one/Meeting2 .csv')\n",
    "df2.head()"
   ]
  },
  {
   "cell_type": "code",
   "execution_count": 4,
   "metadata": {},
   "outputs": [
    {
     "data": {
      "text/html": [
       "<div>\n",
       "<style scoped>\n",
       "    .dataframe tbody tr th:only-of-type {\n",
       "        vertical-align: middle;\n",
       "    }\n",
       "\n",
       "    .dataframe tbody tr th {\n",
       "        vertical-align: top;\n",
       "    }\n",
       "\n",
       "    .dataframe thead th {\n",
       "        text-align: right;\n",
       "    }\n",
       "</style>\n",
       "<table border=\"1\" class=\"dataframe\">\n",
       "  <thead>\n",
       "    <tr style=\"text-align: right;\">\n",
       "      <th></th>\n",
       "      <th>Id</th>\n",
       "      <th>Session</th>\n",
       "      <th>Meeting</th>\n",
       "      <th>Speaker</th>\n",
       "      <th>Text</th>\n",
       "    </tr>\n",
       "  </thead>\n",
       "  <tbody>\n",
       "    <tr>\n",
       "      <th>0</th>\n",
       "      <td>S1M11</td>\n",
       "      <td>1</td>\n",
       "      <td>1</td>\n",
       "      <td>﻿Chairman</td>\n",
       "      <td>Excellencies. I am pleased to declare the firs...</td>\n",
       "    </tr>\n",
       "    <tr>\n",
       "      <th>1</th>\n",
       "      <td>S1M12</td>\n",
       "      <td>1</td>\n",
       "      <td>1</td>\n",
       "      <td>Chile</td>\n",
       "      <td>Before going to the logistics and the backgrou...</td>\n",
       "    </tr>\n",
       "    <tr>\n",
       "      <th>2</th>\n",
       "      <td>S1M13</td>\n",
       "      <td>1</td>\n",
       "      <td>1</td>\n",
       "      <td>Russia</td>\n",
       "      <td>Thank you, Mr. President. I will now ask for t...</td>\n",
       "    </tr>\n",
       "    <tr>\n",
       "      <th>3</th>\n",
       "      <td>S1M14</td>\n",
       "      <td>1</td>\n",
       "      <td>1</td>\n",
       "      <td>Chairman</td>\n",
       "      <td>Thank you for your attention. I thank the repr...</td>\n",
       "    </tr>\n",
       "    <tr>\n",
       "      <th>4</th>\n",
       "      <td>S1M15</td>\n",
       "      <td>1</td>\n",
       "      <td>1</td>\n",
       "      <td>Cuba</td>\n",
       "      <td>Cuba representative, please. Thank you, Presid...</td>\n",
       "    </tr>\n",
       "  </tbody>\n",
       "</table>\n",
       "</div>"
      ],
      "text/plain": [
       "      Id  Session  Meeting    Speaker  \\\n",
       "0  S1M11        1        1  ﻿Chairman   \n",
       "1  S1M12        1        1      Chile   \n",
       "2  S1M13        1        1     Russia   \n",
       "3  S1M14        1        1   Chairman   \n",
       "4  S1M15        1        1       Cuba   \n",
       "\n",
       "                                                Text  \n",
       "0  Excellencies. I am pleased to declare the firs...  \n",
       "1  Before going to the logistics and the backgrou...  \n",
       "2  Thank you, Mr. President. I will now ask for t...  \n",
       "3  Thank you for your attention. I thank the repr...  \n",
       "4  Cuba representative, please. Thank you, Presid...  "
      ]
     },
     "execution_count": 4,
     "metadata": {},
     "output_type": "execute_result"
    }
   ],
   "source": [
    "# Concatenate the two dataframes along the row axis\n",
    "df_merged = pd.concat([df, df2], ignore_index=True)\n",
    "#print the head of the merged data frame\n",
    "df_merged.head()\n"
   ]
  },
  {
   "cell_type": "code",
   "execution_count": 5,
   "metadata": {},
   "outputs": [
    {
     "data": {
      "text/html": [
       "<div>\n",
       "<style scoped>\n",
       "    .dataframe tbody tr th:only-of-type {\n",
       "        vertical-align: middle;\n",
       "    }\n",
       "\n",
       "    .dataframe tbody tr th {\n",
       "        vertical-align: top;\n",
       "    }\n",
       "\n",
       "    .dataframe thead th {\n",
       "        text-align: right;\n",
       "    }\n",
       "</style>\n",
       "<table border=\"1\" class=\"dataframe\">\n",
       "  <thead>\n",
       "    <tr style=\"text-align: right;\">\n",
       "      <th></th>\n",
       "      <th>Id</th>\n",
       "      <th>Session</th>\n",
       "      <th>Meeting</th>\n",
       "      <th>Speaker</th>\n",
       "      <th>Text</th>\n",
       "    </tr>\n",
       "  </thead>\n",
       "  <tbody>\n",
       "    <tr>\n",
       "      <th>55</th>\n",
       "      <td>S1M228</td>\n",
       "      <td>1</td>\n",
       "      <td>2</td>\n",
       "      <td>Sri Lanka</td>\n",
       "      <td>Thank you, Chairman. Congratulations on being ...</td>\n",
       "    </tr>\n",
       "    <tr>\n",
       "      <th>56</th>\n",
       "      <td>S1M229</td>\n",
       "      <td>1</td>\n",
       "      <td>2</td>\n",
       "      <td>Chairman</td>\n",
       "      <td>I would like to thank the representative of Sr...</td>\n",
       "    </tr>\n",
       "    <tr>\n",
       "      <th>57</th>\n",
       "      <td>S1M230</td>\n",
       "      <td>1</td>\n",
       "      <td>2</td>\n",
       "      <td>Cuba</td>\n",
       "      <td>Thank you, Chairman. I think I want to... I ho...</td>\n",
       "    </tr>\n",
       "    <tr>\n",
       "      <th>58</th>\n",
       "      <td>S1M231</td>\n",
       "      <td>1</td>\n",
       "      <td>2</td>\n",
       "      <td>Russia</td>\n",
       "      <td>What is... 要求答辩 Thank you. Some speeches, some...</td>\n",
       "    </tr>\n",
       "    <tr>\n",
       "      <th>59</th>\n",
       "      <td>S1M232</td>\n",
       "      <td>1</td>\n",
       "      <td>2</td>\n",
       "      <td>Chairman</td>\n",
       "      <td>Thank you, Russian Federation representative. ...</td>\n",
       "    </tr>\n",
       "  </tbody>\n",
       "</table>\n",
       "</div>"
      ],
      "text/plain": [
       "        Id  Session  Meeting    Speaker  \\\n",
       "55  S1M228        1        2  Sri Lanka   \n",
       "56  S1M229        1        2   Chairman   \n",
       "57  S1M230        1        2       Cuba   \n",
       "58  S1M231        1        2     Russia   \n",
       "59  S1M232        1        2   Chairman   \n",
       "\n",
       "                                                 Text  \n",
       "55  Thank you, Chairman. Congratulations on being ...  \n",
       "56  I would like to thank the representative of Sr...  \n",
       "57  Thank you, Chairman. I think I want to... I ho...  \n",
       "58  What is... 要求答辩 Thank you. Some speeches, some...  \n",
       "59  Thank you, Russian Federation representative. ...  "
      ]
     },
     "execution_count": 5,
     "metadata": {},
     "output_type": "execute_result"
    }
   ],
   "source": [
    "#print the tail of the merged data frame\n",
    "df_merged.tail()"
   ]
  },
  {
   "cell_type": "code",
   "execution_count": 6,
   "metadata": {},
   "outputs": [
    {
     "name": "stdout",
     "output_type": "stream",
     "text": [
      "File Session_one/Meeting5.csv not found.\n"
     ]
    }
   ],
   "source": [
    "# Read all meetings remaining in session 1 in a loop and merge them to df_merged\n",
    "for i in range(3, 11):\n",
    "    try:\n",
    "        df = pd.read_csv(f'Session_one/Meeting{i}.csv')\n",
    "        df_merged = pd.concat([df_merged, df], ignore_index=True)\n",
    "    except FileNotFoundError:\n",
    "        print(f\"File Session_one/Meeting{i}.csv not found.\")"
   ]
  },
  {
   "cell_type": "code",
   "execution_count": 11,
   "metadata": {},
   "outputs": [
    {
     "data": {
      "text/html": [
       "<div>\n",
       "<style scoped>\n",
       "    .dataframe tbody tr th:only-of-type {\n",
       "        vertical-align: middle;\n",
       "    }\n",
       "\n",
       "    .dataframe tbody tr th {\n",
       "        vertical-align: top;\n",
       "    }\n",
       "\n",
       "    .dataframe thead th {\n",
       "        text-align: right;\n",
       "    }\n",
       "</style>\n",
       "<table border=\"1\" class=\"dataframe\">\n",
       "  <thead>\n",
       "    <tr style=\"text-align: right;\">\n",
       "      <th></th>\n",
       "      <th>Id</th>\n",
       "      <th>Session</th>\n",
       "      <th>Meeting</th>\n",
       "      <th>Speaker</th>\n",
       "      <th>Text</th>\n",
       "    </tr>\n",
       "  </thead>\n",
       "  <tbody>\n",
       "    <tr>\n",
       "      <th>397</th>\n",
       "      <td>S1M1051</td>\n",
       "      <td>1</td>\n",
       "      <td>10</td>\n",
       "      <td>Chairman</td>\n",
       "      <td>I thank the distinguished representative of Po...</td>\n",
       "    </tr>\n",
       "    <tr>\n",
       "      <th>398</th>\n",
       "      <td>S1M1052</td>\n",
       "      <td>1</td>\n",
       "      <td>10</td>\n",
       "      <td>Pakistan</td>\n",
       "      <td>Thank you very much, Mr. Chapperson. And since...</td>\n",
       "    </tr>\n",
       "    <tr>\n",
       "      <th>399</th>\n",
       "      <td>S1M1053</td>\n",
       "      <td>1</td>\n",
       "      <td>10</td>\n",
       "      <td>Chairman</td>\n",
       "      <td>I thank the distinguished representative of Pa...</td>\n",
       "    </tr>\n",
       "    <tr>\n",
       "      <th>400</th>\n",
       "      <td>S1M1054</td>\n",
       "      <td>1</td>\n",
       "      <td>10</td>\n",
       "      <td>Brazil</td>\n",
       "      <td>Thank you. Thank you very much, Chair. It's a ...</td>\n",
       "    </tr>\n",
       "    <tr>\n",
       "      <th>401</th>\n",
       "      <td>S1M1055</td>\n",
       "      <td>1</td>\n",
       "      <td>10</td>\n",
       "      <td>Chairman</td>\n",
       "      <td>I thank the distinguished representative of Br...</td>\n",
       "    </tr>\n",
       "  </tbody>\n",
       "</table>\n",
       "</div>"
      ],
      "text/plain": [
       "          Id  Session  Meeting   Speaker  \\\n",
       "397  S1M1051        1       10  Chairman   \n",
       "398  S1M1052        1       10  Pakistan   \n",
       "399  S1M1053        1       10  Chairman   \n",
       "400  S1M1054        1       10    Brazil   \n",
       "401  S1M1055        1       10  Chairman   \n",
       "\n",
       "                                                  Text  \n",
       "397  I thank the distinguished representative of Po...  \n",
       "398  Thank you very much, Mr. Chapperson. And since...  \n",
       "399  I thank the distinguished representative of Pa...  \n",
       "400  Thank you. Thank you very much, Chair. It's a ...  \n",
       "401  I thank the distinguished representative of Br...  "
      ]
     },
     "execution_count": 11,
     "metadata": {},
     "output_type": "execute_result"
    }
   ],
   "source": [
    "df_merged.tail()"
   ]
  },
  {
   "cell_type": "code",
   "execution_count": 8,
   "metadata": {},
   "outputs": [
    {
     "name": "stdout",
     "output_type": "stream",
     "text": [
      "[ 1  2  3  4  6  7  8  9 10]\n"
     ]
    }
   ],
   "source": [
    "#check if every meeting file was read \n",
    "# Print all unique values in the 'meeting' column\n",
    "print(df_merged['Meeting'].unique())"
   ]
  },
  {
   "cell_type": "code",
   "execution_count": 9,
   "metadata": {},
   "outputs": [
    {
     "name": "stdout",
     "output_type": "stream",
     "text": [
      "(402, 5)\n"
     ]
    }
   ],
   "source": [
    "#print the number of rows in the df_merged data frame\n",
    "print(df_merged.shape)"
   ]
  },
  {
   "cell_type": "code",
   "execution_count": 10,
   "metadata": {},
   "outputs": [
    {
     "name": "stdout",
     "output_type": "stream",
     "text": [
      "Empty DataFrame\n",
      "Columns: [Id, Session, Meeting, Speaker, Text]\n",
      "Index: []\n"
     ]
    }
   ],
   "source": [
    "#check that no data was read twice\n",
    "# Check for duplicate values in the 'id' column\n",
    "duplicates = df_merged[df_merged['Id'].duplicated()]\n",
    "print(duplicates)"
   ]
  },
  {
   "cell_type": "code",
   "execution_count": 12,
   "metadata": {},
   "outputs": [],
   "source": [
    "#save the new data frame to a csv file\n",
    "df_merged.to_csv('Session_one/all_meeting_merged.csv', index=False)"
   ]
  },
  {
   "cell_type": "code",
   "execution_count": 6,
   "metadata": {},
   "outputs": [
    {
     "data": {
      "text/html": [
       "<div>\n",
       "<style scoped>\n",
       "    .dataframe tbody tr th:only-of-type {\n",
       "        vertical-align: middle;\n",
       "    }\n",
       "\n",
       "    .dataframe tbody tr th {\n",
       "        vertical-align: top;\n",
       "    }\n",
       "\n",
       "    .dataframe thead th {\n",
       "        text-align: right;\n",
       "    }\n",
       "</style>\n",
       "<table border=\"1\" class=\"dataframe\">\n",
       "  <thead>\n",
       "    <tr style=\"text-align: right;\">\n",
       "      <th></th>\n",
       "      <th>Id</th>\n",
       "      <th>Session</th>\n",
       "      <th>Meeting</th>\n",
       "      <th>Speaker</th>\n",
       "      <th>Text</th>\n",
       "    </tr>\n",
       "  </thead>\n",
       "  <tbody>\n",
       "    <tr>\n",
       "      <th>0</th>\n",
       "      <td>S1M11</td>\n",
       "      <td>1</td>\n",
       "      <td>1</td>\n",
       "      <td>﻿Chairman</td>\n",
       "      <td>Excellencies. I am pleased to declare the firs...</td>\n",
       "    </tr>\n",
       "    <tr>\n",
       "      <th>1</th>\n",
       "      <td>S1M12</td>\n",
       "      <td>1</td>\n",
       "      <td>1</td>\n",
       "      <td>Chile</td>\n",
       "      <td>Before going to the logistics and the backgrou...</td>\n",
       "    </tr>\n",
       "    <tr>\n",
       "      <th>2</th>\n",
       "      <td>S1M13</td>\n",
       "      <td>1</td>\n",
       "      <td>1</td>\n",
       "      <td>Russia</td>\n",
       "      <td>Thank you, Mr. President. I will now ask for t...</td>\n",
       "    </tr>\n",
       "    <tr>\n",
       "      <th>3</th>\n",
       "      <td>S1M14</td>\n",
       "      <td>1</td>\n",
       "      <td>1</td>\n",
       "      <td>Chairman</td>\n",
       "      <td>Thank you for your attention. I thank the repr...</td>\n",
       "    </tr>\n",
       "    <tr>\n",
       "      <th>4</th>\n",
       "      <td>S1M15</td>\n",
       "      <td>1</td>\n",
       "      <td>1</td>\n",
       "      <td>Cuba</td>\n",
       "      <td>Cuba representative, please. Thank you, Presid...</td>\n",
       "    </tr>\n",
       "  </tbody>\n",
       "</table>\n",
       "</div>"
      ],
      "text/plain": [
       "      Id  Session  Meeting    Speaker  \\\n",
       "0  S1M11        1        1  ﻿Chairman   \n",
       "1  S1M12        1        1      Chile   \n",
       "2  S1M13        1        1     Russia   \n",
       "3  S1M14        1        1   Chairman   \n",
       "4  S1M15        1        1       Cuba   \n",
       "\n",
       "                                                Text  \n",
       "0  Excellencies. I am pleased to declare the firs...  \n",
       "1  Before going to the logistics and the backgrou...  \n",
       "2  Thank you, Mr. President. I will now ask for t...  \n",
       "3  Thank you for your attention. I thank the repr...  \n",
       "4  Cuba representative, please. Thank you, Presid...  "
      ]
     },
     "execution_count": 6,
     "metadata": {},
     "output_type": "execute_result"
    }
   ],
   "source": [
    "df_merged = pd.read_csv('Session_one/all_meeting_merged.csv')\n",
    "df_merged.head()"
   ]
  },
  {
   "cell_type": "markdown",
   "metadata": {},
   "source": [
    "## Read all data in session 2"
   ]
  },
  {
   "cell_type": "code",
   "execution_count": 7,
   "metadata": {},
   "outputs": [
    {
     "data": {
      "text/html": [
       "<div>\n",
       "<style scoped>\n",
       "    .dataframe tbody tr th:only-of-type {\n",
       "        vertical-align: middle;\n",
       "    }\n",
       "\n",
       "    .dataframe tbody tr th {\n",
       "        vertical-align: top;\n",
       "    }\n",
       "\n",
       "    .dataframe thead th {\n",
       "        text-align: right;\n",
       "    }\n",
       "</style>\n",
       "<table border=\"1\" class=\"dataframe\">\n",
       "  <thead>\n",
       "    <tr style=\"text-align: right;\">\n",
       "      <th></th>\n",
       "      <th>Id</th>\n",
       "      <th>Session</th>\n",
       "      <th>Meeting</th>\n",
       "      <th>Speaker</th>\n",
       "      <th>Text</th>\n",
       "    </tr>\n",
       "  </thead>\n",
       "  <tbody>\n",
       "    <tr>\n",
       "      <th>397</th>\n",
       "      <td>S1M1051</td>\n",
       "      <td>1</td>\n",
       "      <td>10</td>\n",
       "      <td>Chairman</td>\n",
       "      <td>I thank the distinguished representative of Po...</td>\n",
       "    </tr>\n",
       "    <tr>\n",
       "      <th>398</th>\n",
       "      <td>S1M1052</td>\n",
       "      <td>1</td>\n",
       "      <td>10</td>\n",
       "      <td>Pakistan</td>\n",
       "      <td>Thank you very much, Mr. Chapperson. And since...</td>\n",
       "    </tr>\n",
       "    <tr>\n",
       "      <th>399</th>\n",
       "      <td>S1M1053</td>\n",
       "      <td>1</td>\n",
       "      <td>10</td>\n",
       "      <td>Chairman</td>\n",
       "      <td>I thank the distinguished representative of Pa...</td>\n",
       "    </tr>\n",
       "    <tr>\n",
       "      <th>400</th>\n",
       "      <td>S1M1054</td>\n",
       "      <td>1</td>\n",
       "      <td>10</td>\n",
       "      <td>Brazil</td>\n",
       "      <td>Thank you. Thank you very much, Chair. It's a ...</td>\n",
       "    </tr>\n",
       "    <tr>\n",
       "      <th>401</th>\n",
       "      <td>S1M1055</td>\n",
       "      <td>1</td>\n",
       "      <td>10</td>\n",
       "      <td>Chairman</td>\n",
       "      <td>I thank the distinguished representative of Br...</td>\n",
       "    </tr>\n",
       "  </tbody>\n",
       "</table>\n",
       "</div>"
      ],
      "text/plain": [
       "          Id  Session  Meeting   Speaker  \\\n",
       "397  S1M1051        1       10  Chairman   \n",
       "398  S1M1052        1       10  Pakistan   \n",
       "399  S1M1053        1       10  Chairman   \n",
       "400  S1M1054        1       10    Brazil   \n",
       "401  S1M1055        1       10  Chairman   \n",
       "\n",
       "                                                  Text  \n",
       "397  I thank the distinguished representative of Po...  \n",
       "398  Thank you very much, Mr. Chapperson. And since...  \n",
       "399  I thank the distinguished representative of Pa...  \n",
       "400  Thank you. Thank you very much, Chair. It's a ...  \n",
       "401  I thank the distinguished representative of Br...  "
      ]
     },
     "execution_count": 7,
     "metadata": {},
     "output_type": "execute_result"
    }
   ],
   "source": [
    "df_merged.tail()"
   ]
  },
  {
   "cell_type": "code",
   "execution_count": 8,
   "metadata": {},
   "outputs": [],
   "source": [
    "# Read all meetings in session 2 in a loop and merge them to df_merged\n",
    "for i in range(1, 11):\n",
    "    try:\n",
    "        df = pd.read_csv(f'session2/Meeting{i}.csv')\n",
    "        df_merged = pd.concat([df_merged, df], ignore_index=True)\n",
    "    except FileNotFoundError:\n",
    "        print(f\"File session2/Meeting{i}.csv not found.\")"
   ]
  },
  {
   "cell_type": "code",
   "execution_count": 9,
   "metadata": {},
   "outputs": [
    {
     "data": {
      "text/html": [
       "<div>\n",
       "<style scoped>\n",
       "    .dataframe tbody tr th:only-of-type {\n",
       "        vertical-align: middle;\n",
       "    }\n",
       "\n",
       "    .dataframe tbody tr th {\n",
       "        vertical-align: top;\n",
       "    }\n",
       "\n",
       "    .dataframe thead th {\n",
       "        text-align: right;\n",
       "    }\n",
       "</style>\n",
       "<table border=\"1\" class=\"dataframe\">\n",
       "  <thead>\n",
       "    <tr style=\"text-align: right;\">\n",
       "      <th></th>\n",
       "      <th>Id</th>\n",
       "      <th>Session</th>\n",
       "      <th>Meeting</th>\n",
       "      <th>Speaker</th>\n",
       "      <th>Text</th>\n",
       "    </tr>\n",
       "  </thead>\n",
       "  <tbody>\n",
       "    <tr>\n",
       "      <th>839</th>\n",
       "      <td>S2M1050</td>\n",
       "      <td>2</td>\n",
       "      <td>10</td>\n",
       "      <td>Chairman</td>\n",
       "      <td>I thank the distinguished representative of th...</td>\n",
       "    </tr>\n",
       "    <tr>\n",
       "      <th>840</th>\n",
       "      <td>S2M1051</td>\n",
       "      <td>2</td>\n",
       "      <td>10</td>\n",
       "      <td>Argentina</td>\n",
       "      <td>Thank you. Since this is the first time my del...</td>\n",
       "    </tr>\n",
       "    <tr>\n",
       "      <th>841</th>\n",
       "      <td>S2M1052</td>\n",
       "      <td>2</td>\n",
       "      <td>10</td>\n",
       "      <td>Chairman</td>\n",
       "      <td>I thank the distinguished representative of Ar...</td>\n",
       "    </tr>\n",
       "    <tr>\n",
       "      <th>842</th>\n",
       "      <td>S2M1053</td>\n",
       "      <td>2</td>\n",
       "      <td>10</td>\n",
       "      <td>The Australian Center for Space Governance</td>\n",
       "      <td>Thank you so much, Chair, and I do truly appre...</td>\n",
       "    </tr>\n",
       "    <tr>\n",
       "      <th>843</th>\n",
       "      <td>S2M1054</td>\n",
       "      <td>2</td>\n",
       "      <td>10</td>\n",
       "      <td>Chairman</td>\n",
       "      <td>I thank the representative of the Australian C...</td>\n",
       "    </tr>\n",
       "  </tbody>\n",
       "</table>\n",
       "</div>"
      ],
      "text/plain": [
       "          Id  Session  Meeting                                     Speaker  \\\n",
       "839  S2M1050        2       10                                    Chairman   \n",
       "840  S2M1051        2       10                                   Argentina   \n",
       "841  S2M1052        2       10                                    Chairman   \n",
       "842  S2M1053        2       10  The Australian Center for Space Governance   \n",
       "843  S2M1054        2       10                                    Chairman   \n",
       "\n",
       "                                                  Text  \n",
       "839  I thank the distinguished representative of th...  \n",
       "840  Thank you. Since this is the first time my del...  \n",
       "841  I thank the distinguished representative of Ar...  \n",
       "842  Thank you so much, Chair, and I do truly appre...  \n",
       "843  I thank the representative of the Australian C...  "
      ]
     },
     "execution_count": 9,
     "metadata": {},
     "output_type": "execute_result"
    }
   ],
   "source": [
    "df_merged.tail()"
   ]
  },
  {
   "cell_type": "code",
   "execution_count": 10,
   "metadata": {},
   "outputs": [
    {
     "name": "stdout",
     "output_type": "stream",
     "text": [
      "[ 1  2  3  4  5  6  7  8  9 10]\n"
     ]
    }
   ],
   "source": [
    "# Get all unique values in the 'Meeting' column where 'Session' is 2\n",
    "unique_values = df_merged[df_merged['Session'] == 2]['Meeting'].unique()\n",
    "print(unique_values)"
   ]
  },
  {
   "cell_type": "code",
   "execution_count": 11,
   "metadata": {},
   "outputs": [
    {
     "name": "stdout",
     "output_type": "stream",
     "text": [
      "Empty DataFrame\n",
      "Columns: [Id, Session, Meeting, Speaker, Text]\n",
      "Index: []\n"
     ]
    }
   ],
   "source": [
    "#check that no data was read twice\n",
    "# Check for duplicate values in the 'id' column\n",
    "duplicates = df_merged[df_merged['Id'].duplicated()]\n",
    "print(duplicates)"
   ]
  },
  {
   "cell_type": "code",
   "execution_count": 12,
   "metadata": {},
   "outputs": [
    {
     "name": "stdout",
     "output_type": "stream",
     "text": [
      "(844, 5)\n"
     ]
    }
   ],
   "source": [
    "#print the number of rows in the df_merged data frame\n",
    "print(df_merged.shape)"
   ]
  },
  {
   "cell_type": "markdown",
   "metadata": {},
   "source": [
    "## Reading all Session 4 files"
   ]
  },
  {
   "cell_type": "code",
   "execution_count": 13,
   "metadata": {},
   "outputs": [
    {
     "data": {
      "text/html": [
       "<div>\n",
       "<style scoped>\n",
       "    .dataframe tbody tr th:only-of-type {\n",
       "        vertical-align: middle;\n",
       "    }\n",
       "\n",
       "    .dataframe tbody tr th {\n",
       "        vertical-align: top;\n",
       "    }\n",
       "\n",
       "    .dataframe thead th {\n",
       "        text-align: right;\n",
       "    }\n",
       "</style>\n",
       "<table border=\"1\" class=\"dataframe\">\n",
       "  <thead>\n",
       "    <tr style=\"text-align: right;\">\n",
       "      <th></th>\n",
       "      <th>Id</th>\n",
       "      <th>Session</th>\n",
       "      <th>Meeting</th>\n",
       "      <th>Speaker</th>\n",
       "      <th>Text</th>\n",
       "    </tr>\n",
       "  </thead>\n",
       "  <tbody>\n",
       "    <tr>\n",
       "      <th>839</th>\n",
       "      <td>S2M1050</td>\n",
       "      <td>2</td>\n",
       "      <td>10</td>\n",
       "      <td>Chairman</td>\n",
       "      <td>I thank the distinguished representative of th...</td>\n",
       "    </tr>\n",
       "    <tr>\n",
       "      <th>840</th>\n",
       "      <td>S2M1051</td>\n",
       "      <td>2</td>\n",
       "      <td>10</td>\n",
       "      <td>Argentina</td>\n",
       "      <td>Thank you. Since this is the first time my del...</td>\n",
       "    </tr>\n",
       "    <tr>\n",
       "      <th>841</th>\n",
       "      <td>S2M1052</td>\n",
       "      <td>2</td>\n",
       "      <td>10</td>\n",
       "      <td>Chairman</td>\n",
       "      <td>I thank the distinguished representative of Ar...</td>\n",
       "    </tr>\n",
       "    <tr>\n",
       "      <th>842</th>\n",
       "      <td>S2M1053</td>\n",
       "      <td>2</td>\n",
       "      <td>10</td>\n",
       "      <td>The Australian Center for Space Governance</td>\n",
       "      <td>Thank you so much, Chair, and I do truly appre...</td>\n",
       "    </tr>\n",
       "    <tr>\n",
       "      <th>843</th>\n",
       "      <td>S2M1054</td>\n",
       "      <td>2</td>\n",
       "      <td>10</td>\n",
       "      <td>Chairman</td>\n",
       "      <td>I thank the representative of the Australian C...</td>\n",
       "    </tr>\n",
       "  </tbody>\n",
       "</table>\n",
       "</div>"
      ],
      "text/plain": [
       "          Id  Session  Meeting                                     Speaker  \\\n",
       "839  S2M1050        2       10                                    Chairman   \n",
       "840  S2M1051        2       10                                   Argentina   \n",
       "841  S2M1052        2       10                                    Chairman   \n",
       "842  S2M1053        2       10  The Australian Center for Space Governance   \n",
       "843  S2M1054        2       10                                    Chairman   \n",
       "\n",
       "                                                  Text  \n",
       "839  I thank the distinguished representative of th...  \n",
       "840  Thank you. Since this is the first time my del...  \n",
       "841  I thank the distinguished representative of Ar...  \n",
       "842  Thank you so much, Chair, and I do truly appre...  \n",
       "843  I thank the representative of the Australian C...  "
      ]
     },
     "execution_count": 13,
     "metadata": {},
     "output_type": "execute_result"
    }
   ],
   "source": [
    "df_merged.tail()"
   ]
  },
  {
   "cell_type": "code",
   "execution_count": 14,
   "metadata": {},
   "outputs": [
    {
     "name": "stdout",
     "output_type": "stream",
     "text": [
      "File session4/Meeting_3.csv not found.\n",
      "File session4/Meeting_4.csv not found.\n",
      "File session4/Meeting_5.csv not found.\n",
      "File session4/Meeting_6.csv not found.\n",
      "File session4/Meeting_7.csv not found.\n",
      "File session4/Meeting_8.csv not found.\n"
     ]
    }
   ],
   "source": [
    "# Read all meetings in session 4 in a loop and merge them to df_merged\n",
    "for i in range(1, 11):\n",
    "    try:\n",
    "        df = pd.read_csv(f'session4/Meeting_{i}.csv')\n",
    "        df_merged = pd.concat([df_merged, df], ignore_index=True)\n",
    "    except FileNotFoundError:\n",
    "        print(f\"File session4/Meeting_{i}.csv not found.\")"
   ]
  },
  {
   "cell_type": "code",
   "execution_count": 15,
   "metadata": {},
   "outputs": [
    {
     "data": {
      "text/html": [
       "<div>\n",
       "<style scoped>\n",
       "    .dataframe tbody tr th:only-of-type {\n",
       "        vertical-align: middle;\n",
       "    }\n",
       "\n",
       "    .dataframe tbody tr th {\n",
       "        vertical-align: top;\n",
       "    }\n",
       "\n",
       "    .dataframe thead th {\n",
       "        text-align: right;\n",
       "    }\n",
       "</style>\n",
       "<table border=\"1\" class=\"dataframe\">\n",
       "  <thead>\n",
       "    <tr style=\"text-align: right;\">\n",
       "      <th></th>\n",
       "      <th>Id</th>\n",
       "      <th>Session</th>\n",
       "      <th>Meeting</th>\n",
       "      <th>Speaker</th>\n",
       "      <th>Text</th>\n",
       "    </tr>\n",
       "  </thead>\n",
       "  <tbody>\n",
       "    <tr>\n",
       "      <th>1044</th>\n",
       "      <td>S4M154</td>\n",
       "      <td>4</td>\n",
       "      <td>10</td>\n",
       "      <td>Chairman</td>\n",
       "      <td>I thank the distinguished representative of th...</td>\n",
       "    </tr>\n",
       "    <tr>\n",
       "      <th>1045</th>\n",
       "      <td>S4M155</td>\n",
       "      <td>4</td>\n",
       "      <td>10</td>\n",
       "      <td>USA</td>\n",
       "      <td>Mr. Chairman, on behalf of the United States, ...</td>\n",
       "    </tr>\n",
       "    <tr>\n",
       "      <th>1046</th>\n",
       "      <td>S4M156</td>\n",
       "      <td>4</td>\n",
       "      <td>10</td>\n",
       "      <td>Chairman</td>\n",
       "      <td>We will now unfortunately have to continue wit...</td>\n",
       "    </tr>\n",
       "    <tr>\n",
       "      <th>1047</th>\n",
       "      <td>S4M157</td>\n",
       "      <td>4</td>\n",
       "      <td>10</td>\n",
       "      <td>Singapore</td>\n",
       "      <td>Thank you, Chair, and thankfully I do speak in...</td>\n",
       "    </tr>\n",
       "    <tr>\n",
       "      <th>1048</th>\n",
       "      <td>S4M158</td>\n",
       "      <td>4</td>\n",
       "      <td>10</td>\n",
       "      <td>Chairman</td>\n",
       "      <td>Okay. I thank the distinguished representative...</td>\n",
       "    </tr>\n",
       "  </tbody>\n",
       "</table>\n",
       "</div>"
      ],
      "text/plain": [
       "          Id  Session  Meeting    Speaker  \\\n",
       "1044  S4M154        4       10   Chairman   \n",
       "1045  S4M155        4       10        USA   \n",
       "1046  S4M156        4       10   Chairman   \n",
       "1047  S4M157        4       10  Singapore   \n",
       "1048  S4M158        4       10   Chairman   \n",
       "\n",
       "                                                   Text  \n",
       "1044  I thank the distinguished representative of th...  \n",
       "1045  Mr. Chairman, on behalf of the United States, ...  \n",
       "1046  We will now unfortunately have to continue wit...  \n",
       "1047  Thank you, Chair, and thankfully I do speak in...  \n",
       "1048  Okay. I thank the distinguished representative...  "
      ]
     },
     "execution_count": 15,
     "metadata": {},
     "output_type": "execute_result"
    }
   ],
   "source": [
    "df_merged.tail()"
   ]
  },
  {
   "cell_type": "code",
   "execution_count": 16,
   "metadata": {},
   "outputs": [
    {
     "name": "stdout",
     "output_type": "stream",
     "text": [
      "[ 1  2  9 10]\n"
     ]
    }
   ],
   "source": [
    "# Get all unique values in the 'Meeting' column where 'Session' is 4\n",
    "unique_values = df_merged[df_merged['Session'] == 4]['Meeting'].unique()\n",
    "print(unique_values)"
   ]
  },
  {
   "cell_type": "markdown",
   "metadata": {},
   "source": [
    "## Reading Session 3 "
   ]
  },
  {
   "cell_type": "code",
   "execution_count": 17,
   "metadata": {},
   "outputs": [],
   "source": [
    "# Read all meetings in session 4 in a loop and merge them to df_merged\n",
    "for i in range(5, 8):\n",
    "    try:\n",
    "        df = pd.read_csv(f'csv/Meeting_{i}.csv')\n",
    "        df_merged = pd.concat([df_merged, df], ignore_index=True)\n",
    "    except FileNotFoundError:\n",
    "        print(f\"File csv/Meeting_{i}.csv not found.\")"
   ]
  },
  {
   "cell_type": "code",
   "execution_count": 18,
   "metadata": {},
   "outputs": [
    {
     "data": {
      "text/html": [
       "<div>\n",
       "<style scoped>\n",
       "    .dataframe tbody tr th:only-of-type {\n",
       "        vertical-align: middle;\n",
       "    }\n",
       "\n",
       "    .dataframe tbody tr th {\n",
       "        vertical-align: top;\n",
       "    }\n",
       "\n",
       "    .dataframe thead th {\n",
       "        text-align: right;\n",
       "    }\n",
       "</style>\n",
       "<table border=\"1\" class=\"dataframe\">\n",
       "  <thead>\n",
       "    <tr style=\"text-align: right;\">\n",
       "      <th></th>\n",
       "      <th>Id</th>\n",
       "      <th>Session</th>\n",
       "      <th>Meeting</th>\n",
       "      <th>Speaker</th>\n",
       "      <th>Text</th>\n",
       "    </tr>\n",
       "  </thead>\n",
       "  <tbody>\n",
       "    <tr>\n",
       "      <th>1264</th>\n",
       "      <td>S3M774</td>\n",
       "      <td>3</td>\n",
       "      <td>7</td>\n",
       "      <td>Chairman</td>\n",
       "      <td>I thank the distinguished representative of th...</td>\n",
       "    </tr>\n",
       "    <tr>\n",
       "      <th>1265</th>\n",
       "      <td>S3M775</td>\n",
       "      <td>3</td>\n",
       "      <td>7</td>\n",
       "      <td>Russia</td>\n",
       "      <td>Thank you very much, Chair. At the outset, Ple...</td>\n",
       "    </tr>\n",
       "    <tr>\n",
       "      <th>1266</th>\n",
       "      <td>S3M776</td>\n",
       "      <td>3</td>\n",
       "      <td>7</td>\n",
       "      <td>Chairman</td>\n",
       "      <td>I thank the distinguished representative of th...</td>\n",
       "    </tr>\n",
       "    <tr>\n",
       "      <th>1267</th>\n",
       "      <td>S3M777</td>\n",
       "      <td>3</td>\n",
       "      <td>7</td>\n",
       "      <td>France</td>\n",
       "      <td>Mercy, Mr. President. Thank you, Chair. I'd li...</td>\n",
       "    </tr>\n",
       "    <tr>\n",
       "      <th>1268</th>\n",
       "      <td>S3M778</td>\n",
       "      <td>3</td>\n",
       "      <td>7</td>\n",
       "      <td>Chairman</td>\n",
       "      <td>I think the distinguished representative of Fr...</td>\n",
       "    </tr>\n",
       "  </tbody>\n",
       "</table>\n",
       "</div>"
      ],
      "text/plain": [
       "          Id  Session  Meeting   Speaker  \\\n",
       "1264  S3M774        3        7  Chairman   \n",
       "1265  S3M775        3        7    Russia   \n",
       "1266  S3M776        3        7  Chairman   \n",
       "1267  S3M777        3        7    France   \n",
       "1268  S3M778        3        7  Chairman   \n",
       "\n",
       "                                                   Text  \n",
       "1264  I thank the distinguished representative of th...  \n",
       "1265  Thank you very much, Chair. At the outset, Ple...  \n",
       "1266  I thank the distinguished representative of th...  \n",
       "1267  Mercy, Mr. President. Thank you, Chair. I'd li...  \n",
       "1268  I think the distinguished representative of Fr...  "
      ]
     },
     "execution_count": 18,
     "metadata": {},
     "output_type": "execute_result"
    }
   ],
   "source": [
    "df_merged.tail()"
   ]
  },
  {
   "cell_type": "code",
   "execution_count": 19,
   "metadata": {},
   "outputs": [
    {
     "name": "stdout",
     "output_type": "stream",
     "text": [
      "[5 6 7]\n"
     ]
    }
   ],
   "source": [
    "# Get all unique values in the 'Meeting' column where 'Session' is 4\n",
    "unique_values = df_merged[df_merged['Session'] == 3]['Meeting'].unique()\n",
    "print(unique_values)"
   ]
  },
  {
   "cell_type": "code",
   "execution_count": 20,
   "metadata": {},
   "outputs": [
    {
     "name": "stdout",
     "output_type": "stream",
     "text": [
      "(1269, 5)\n"
     ]
    }
   ],
   "source": [
    "#print the number of rows in the df_merged data frame\n",
    "print(df_merged.shape)"
   ]
  },
  {
   "cell_type": "code",
   "execution_count": 21,
   "metadata": {},
   "outputs": [],
   "source": [
    "#save the final data frame to a csv file\n",
    "df_merged.to_csv('Session_one/all_meeting_merged.csv', index=False)"
   ]
  }
 ],
 "metadata": {
  "kernelspec": {
   "display_name": "Python 3",
   "language": "python",
   "name": "python3"
  },
  "language_info": {
   "codemirror_mode": {
    "name": "ipython",
    "version": 3
   },
   "file_extension": ".py",
   "mimetype": "text/x-python",
   "name": "python",
   "nbconvert_exporter": "python",
   "pygments_lexer": "ipython3",
   "version": "3.11.5"
  }
 },
 "nbformat": 4,
 "nbformat_minor": 2
}

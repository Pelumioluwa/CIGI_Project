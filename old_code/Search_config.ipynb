{
 "cells": [
  {
   "cell_type": "code",
   "execution_count": 15,
   "metadata": {},
   "outputs": [],
   "source": [
    "from dotenv import dotenv_values\n",
    "from azure.core.credentials import AzureKeyCredential\n",
    "from azure.search.documents import SearchClient\n",
    "from azure.search.documents.indexes import SearchIndexClient, SearchIndexerClient\n",
    "from azure.search.documents.models import Vector\n",
    "from azure.search.documents.indexes.models import (\n",
    "    IndexingSchedule,\n",
    "    SearchIndex,\n",
    "    SearchIndexer,\n",
    "    SearchIndexerDataContainer,\n",
    "    SearchField,\n",
    "    SearchFieldDataType,\n",
    "    SearchableField,\n",
    "    SemanticConfiguration,\n",
    "    SimpleField,\n",
    "    PrioritizedFields,\n",
    "    SemanticField,\n",
    "    SemanticSettings,\n",
    "    VectorSearch,\n",
    "    VectorSearchAlgorithmConfiguration,\n",
    "    SearchIndexerDataSourceConnection\n",
    ")\n",
    "import requests\n",
    "import json\n",
    "import re\n",
    "import pandas as pd"
   ]
  },
  {
   "cell_type": "code",
   "execution_count": 4,
   "metadata": {},
   "outputs": [],
   "source": [
    "#import cosmos db credentials \n",
    "config = dotenv_values('credential.env')\n",
    "ai_search_location = config['ai_search_location']\n",
    "ai_search_key = config['ai_search_key']\n",
    "ai_search_url = config['ai_search_url']\n",
    "ai_search_index = 'oewg-speech-meeeting-index'\n",
    "ai_search_name = 'oewg-meeting'\n",
    "embedding_length = 768\n",
    "cog_search_cred = AzureKeyCredential(ai_search_key)"
   ]
  },
  {
   "cell_type": "code",
   "execution_count": 13,
   "metadata": {},
   "outputs": [],
   "source": [
    "#defining schema\n",
    "index_client = SearchIndexClient(endpoint=ai_search_url, credential=cog_search_cred)\n",
    "fields = [\n",
    "    SimpleField(name=\"id\", type=SearchFieldDataType.String, key=True, sortable=True, \n",
    "                filterable=True),\n",
    "    SearchableField(name=\"Session\", type=SearchFieldDataType.String,\n",
    "                    searchable=True, retrievable=True, filterable=True, sortable=True, facetable=True),\n",
    "    SearchableField(name=\"Meeting\", type=SearchFieldDataType.String,\n",
    "                    searchable=True, retrievable=True, filterable=True, sortable=True, facetable=True),\n",
    "    SearchableField(name=\"Speaker\", type=SearchFieldDataType.String,\n",
    "                    searchable=True, retrievable=True, filterable=True, sortable=True, facetable=True),\n",
    "    SearchableField(name=\"Text\", type=SearchFieldDataType.String,\n",
    "                    searchable=True, retrievable=True, filterable=True, sortable=True, facetable=True),\n",
    "    SearchField(name=\"TextEmbeddings\", type=SearchFieldDataType.Collection(SearchFieldDataType.Single),\n",
    "                searchable=True, dimensions=768, vector_search_configuration=\"vector-config\"),\n",
    "    SearchField(name=\"SpeakerEmbeddings\", type=SearchFieldDataType.Collection(SearchFieldDataType.Single),\n",
    "                searchable=True, dimensions=768, vector_search_configuration=\"vector-config\"),\n",
    "]"
   ]
  },
  {
   "cell_type": "code",
   "execution_count": 9,
   "metadata": {},
   "outputs": [],
   "source": [
    "#configure vector search\n",
    "vector_search = VectorSearch(\n",
    "    algorithm_configurations=[\n",
    "        VectorSearchAlgorithmConfiguration(\n",
    "            name=\"vector-config\", \n",
    "            kind=\"hnsw\",\n",
    "            hnsw_parameters={\n",
    "                \"m\": 4,\n",
    "                \"efConstruction\": 400,\n",
    "                \"efSearch\": 1000,\n",
    "                \"metric\": \"cosine\"\n",
    "            })])"
   ]
  },
  {
   "cell_type": "code",
   "execution_count": 10,
   "metadata": {},
   "outputs": [],
   "source": [
    "# Configure semantic search. \n",
    "semantic_config = SemanticConfiguration(\n",
    "    name=\"my-semantic-config\",\n",
    "    prioritized_fields=PrioritizedFields(\n",
    "        title_field=SemanticField(field_name=\"Speaker\"),\n",
    "        prioritized_keywords_fields=[SemanticField(field_name=\"Speaker\")],\n",
    "        prioritized_content_fields=[SemanticField(field_name=\"Text\")],\n",
    "       )\n",
    ")"
   ]
  },
  {
   "cell_type": "code",
   "execution_count": 11,
   "metadata": {},
   "outputs": [],
   "source": [
    "# Create the semantic settings with the configuration\n",
    "semantic_settings = SemanticSettings(configurations=[semantic_config])"
   ]
  },
  {
   "cell_type": "code",
   "execution_count": 14,
   "metadata": {},
   "outputs": [
    {
     "name": "stdout",
     "output_type": "stream",
     "text": [
      " oewg-speech-meeeting-index created\n"
     ]
    }
   ],
   "source": [
    "# Create the search index with the semantic settings\n",
    "index = SearchIndex(name=ai_search_index, fields=fields,\n",
    "                    vector_search=vector_search, semantic_settings=semantic_settings)\n",
    "result = index_client.create_or_update_index(index)\n",
    "print(f' {result.name} created')\n"
   ]
  }
 ],
 "metadata": {
  "kernelspec": {
   "display_name": "Python 3",
   "language": "python",
   "name": "python3"
  },
  "language_info": {
   "codemirror_mode": {
    "name": "ipython",
    "version": 3
   },
   "file_extension": ".py",
   "mimetype": "text/x-python",
   "name": "python",
   "nbconvert_exporter": "python",
   "pygments_lexer": "ipython3",
   "version": "3.11.5"
  }
 },
 "nbformat": 4,
 "nbformat_minor": 2
}

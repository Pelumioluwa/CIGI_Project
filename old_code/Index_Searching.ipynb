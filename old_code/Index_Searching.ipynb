{
 "cells": [
  {
   "cell_type": "markdown",
   "metadata": {},
   "source": [
    "## AI Search Experimentation.\n",
    "Experimenting with different search index for the best results "
   ]
  },
  {
   "cell_type": "code",
   "execution_count": 6,
   "metadata": {},
   "outputs": [],
   "source": [
    "from azure.core.credentials import AzureKeyCredential  \n",
    "from azure.search.documents import SearchClient\n",
    "from azure.search.documents.models import (\n",
    "    QueryAnswerType,\n",
    "    QueryCaptionType,\n",
    "    QueryType,\n",
    "    VectorizedQuery   \n",
    ")\n",
    "from dotenv import dotenv_values\n",
    "from langchain_community.embeddings import HuggingFaceEmbeddings"
   ]
  },
  {
   "cell_type": "code",
   "execution_count": 5,
   "metadata": {},
   "outputs": [],
   "source": [
    "#import cosmos db credentials \n",
    "config = dotenv_values('credential.env')\n",
    "ai_search_location = config['ai_search_location']\n",
    "ai_search_key = config['ai_search_key']\n",
    "ai_search_url = config['ai_search_url']\n",
    "ai_search_index = 'oewg-speech-meeeting-index'\n",
    "ai_search_name = 'oewg-meeting'\n",
    "embedding_length = 768\n",
    "cog_search_cred = AzureKeyCredential(ai_search_key)"
   ]
  },
  {
   "cell_type": "code",
   "execution_count": 7,
   "metadata": {},
   "outputs": [],
   "source": [
    "#convert data to vector embeddings\n",
    "def generate_embeddings(text):\n",
    "    embedding_model = HuggingFaceEmbeddings(model_name=\"sentence-transformers/all-mpnet-base-v2\")\n",
    "    embeddings = embedding_model.embed_query(text)\n",
    "    return embeddings"
   ]
  },
  {
   "cell_type": "code",
   "execution_count": 13,
   "metadata": {},
   "outputs": [],
   "source": [
    "search_word= 'Russia'"
   ]
  },
  {
   "cell_type": "code",
   "execution_count": 8,
   "metadata": {},
   "outputs": [
    {
     "name": "stderr",
     "output_type": "stream",
     "text": [
      "/Library/Frameworks/Python.framework/Versions/3.11/lib/python3.11/site-packages/tqdm/auto.py:21: TqdmWarning: IProgress not found. Please update jupyter and ipywidgets. See https://ipywidgets.readthedocs.io/en/stable/user_install.html\n",
      "  from .autonotebook import tqdm as notebook_tqdm\n"
     ]
    }
   ],
   "source": [
    "question = generate_embeddings('Russia')"
   ]
  },
  {
   "cell_type": "code",
   "execution_count": 11,
   "metadata": {},
   "outputs": [
    {
     "name": "stdout",
     "output_type": "stream",
     "text": [
      "Score: 1.0000001\n",
      "Captions: None\n",
      "Highlights: None\n",
      "Text: space for undertaking military activity With a view to ensuring their dominance And prevalence superiority. There is a need as an intermediary measure to affirm the predominance Of the existing and enforce international legal norms and principles Regulating activities in space. First and foremost, the 1967 Space Treaty And the resolution of the first UN General Assembly Special Session on Disarmament of 1978 Ssot 1As well as a series of other documents which we have made reference to yesterday morning. At\n",
      "\n",
      "Country: Russia\n",
      "\n",
      "Meeting: 5\n",
      "\n",
      "Session: 3\n",
      "\n",
      "###############################\n",
      "Score: 1.0000001\n",
      "Captions: None\n",
      "Highlights: None\n",
      "Text: to provide its recommendations to the UNGA. Moreover, within that Commission Next year, for example, there is a plan for the review of the UN Secretary General's report. Which is in the near future to be prepared, pursuant to resolution the Union can resolution On transparency and confidence building measures with regard to space activities. It seems to us that This group and its work should not interfere with or undermine the work of other for a Moreover, I would like to offer some clarification with\n",
      "\n",
      "Country: Russia\n",
      "\n",
      "Meeting: 5\n",
      "\n",
      "Session: 3\n",
      "\n",
      "###############################\n",
      "Score: 1.0000001\n",
      "Captions: None\n",
      "Highlights: None\n",
      "Text: of other Western delegations to the effect that Certain Lawful acts May be deemed to be irresponsible In our view. Such a framing of the question could lead to a seriously risky Division of the field of law and the legal framework that currently exists And in a broader way, international law standards Relating to matters of space security and security of space activities. In essence, this would suggest some form of an attempt to revise the existing international law framework Through, The assumption or\n",
      "\n",
      "Country: Russia\n",
      "\n",
      "Meeting: 5\n",
      "\n",
      "Session: 3\n",
      "\n",
      "###############################\n"
     ]
    }
   ],
   "source": [
    "#vector search\n",
    "search_client = SearchClient(ai_search_url, ai_search_index, AzureKeyCredential(ai_search_key))  \n",
    "vector_query = VectorizedQuery(vector=question, \n",
    "                               k_nearest_neighbors=3, \n",
    "                               fields=\"SpeakerEmbeddings\")\n",
    "\n",
    "results = search_client.search(  \n",
    "    search_text=None,  \n",
    "    vector_queries=[vector_query],\n",
    "    select=[\"Speaker\", \"Text\",\"Meeting\", \"Session\"],\n",
    "    top=5\n",
    ")  \n",
    "  \n",
    "for result in results:  \n",
    "    print(f\"Score: {result['@search.score']}\")  \n",
    "    print(f\"Captions: {result['@search.captions']}\")  \n",
    "    print(f\"Highlights: {result['@search.highlights']}\")  \n",
    "    print(f\"Text: {result['Text']}\\n\")  \n",
    "    print(f\"Country: {result['Speaker']}\\n\")  \n",
    "    print(f\"Meeting: {result['Meeting']}\\n\")  \n",
    "    print(f\"Session: {result['Session']}\\n\")  \n",
    "    print(\"###############################\") "
   ]
  },
  {
   "cell_type": "code",
   "execution_count": 16,
   "metadata": {},
   "outputs": [
    {
     "name": "stdout",
     "output_type": "stream",
     "text": [
      "Score: 0.027893736958503723\n",
      "Text: What's but esteemed chairperson the Russian Federation considers Outer space as an exclusively peaceful environment, Space vehicles Execute numerous and very varied functions. This includes supporting communications Research into the surface of the Earth And the Near Earth Space orbit and much more Satellites in orbit And also space systems and equipment. By their very nature, can be deployed. Both for peaceful and military purposes. Therefore, any assessment of dual use potential Should be conducted on the\n",
      "\n",
      "Country: Russia\n",
      "\n",
      "Meeting: 5\n",
      "\n",
      "Session: 3\n",
      "\n",
      "###############################\n",
      "Score: 0.01666666753590107\n",
      "Text: countries, including those identified as potential drop zones of re-entering debris from the launch that pose a potential risk of injury to people or damage or destruction to property. Thank you, Mr. Chair.\n",
      "\n",
      "Country: Philippines\n",
      "\n",
      "Meeting: 5\n",
      "\n",
      "Session: 3\n",
      "\n",
      "###############################\n",
      "Score: 0.01666666753590107\n",
      "Text: Brazil therefore believes that the OEWG should build on two existing proposals for international moratoria and combine them in order to make a comprehensive recommendation on destructive A sets. The first moratorium is contained in the 2014 UN General Assembly resolution A slash res slash 69 slash 41 tabled by Russia titled Quote no first placement of weapons in Outer Space. This resolution encouraged states open quote, to consider the possibility of upholding, as appropriate, a political commitment not to\n",
      "\n",
      "Country: Brazil\n",
      "\n",
      "Meeting: 5\n",
      "\n",
      "Session: 3\n",
      "\n",
      "###############################\n"
     ]
    }
   ],
   "source": [
    "#hybrid search - vector field : Text embeddings\n",
    "search_client = SearchClient(ai_search_url, ai_search_index, AzureKeyCredential(ai_search_key))  \n",
    "vector_query = VectorizedQuery(vector=question, \n",
    "                               k_nearest_neighbors=3, \n",
    "                               fields=\"TextEmbeddings\")\n",
    "\n",
    "results = search_client.search(  \n",
    "    search_text=search_word,  \n",
    "    vector_queries=[vector_query],\n",
    "    select=[\"Speaker\", \"Text\",\"Meeting\", \"Session\"],\n",
    "    top=3\n",
    ")  \n",
    "  \n",
    "for result in results:  \n",
    "    print(f\"Score: {result['@search.score']}\")  \n",
    "    print(f\"Text: {result['Text']}\\n\")  \n",
    "    print(f\"Country: {result['Speaker']}\\n\")  \n",
    "    print(f\"Meeting: {result['Meeting']}\\n\")  \n",
    "    print(f\"Session: {result['Session']}\\n\") \n",
    "    print(\"###############################\")"
   ]
  },
  {
   "cell_type": "code",
   "execution_count": 15,
   "metadata": {},
   "outputs": [
    {
     "name": "stdout",
     "output_type": "stream",
     "text": [
      "Score: 0.028861789032816887\n",
      "Text: the framework of this working group's work on various different issues. It never brings anything positive, it simply leads to possible discrimination by certain Member States Against other Member States. We consider this Unnecessary We consider this to be counterproductive from the standpoint of international law and ultimately. The aim of ensuring space security and the security of space activities, therefore We call Upon colleagues to strictly base themselves on legally binding international norms and\n",
      "\n",
      "Country: Russia\n",
      "\n",
      "Meeting: 5\n",
      "\n",
      "Session: 3\n",
      "\n",
      "###############################\n",
      "Score: 0.0265975221991539\n",
      "Text: as I previously said, intentions can be interpreted in very different ways and they may look initially very different. They may intentions may differ greatly from actual actions in the real world. In developing various voluntary norms in the form of transparency and confidence building measures, which Create restrictions for the military use of elements of outer space infrastructure Should be based only on the short-term temporary character of use, Otherwise, They will not only be ineffective They will be\n",
      "\n",
      "Country: Russia\n",
      "\n",
      "Meeting: 5\n",
      "\n",
      "Session: 3\n",
      "\n",
      "###############################\n",
      "Score: 0.025562994182109833\n",
      "Text: of weapons in space. The non-use of force or threat of use of force against objects or using space objects And more generally, the prevention of an arms racing outer space. Here it's important to understand that the unsanctioned actions against the devices of a sovereign state that is without permission from the owner of such space vehicles Is totally unacceptable. The Russian Federation Has actively promoted this thesis in the working group on long term. Sustainable space activities as a part of\n",
      "\n",
      "Country: Russia\n",
      "\n",
      "Meeting: 5\n",
      "\n",
      "Session: 3\n",
      "\n",
      "###############################\n"
     ]
    }
   ],
   "source": [
    "#hybrid search and vector field - speaker embeddings\n",
    "search_client = SearchClient(ai_search_url, ai_search_index, AzureKeyCredential(ai_search_key))  \n",
    "vector_query = VectorizedQuery(vector=question, \n",
    "                               k_nearest_neighbors=3, \n",
    "                               fields=\"SpeakerEmbeddings\")\n",
    "\n",
    "results = search_client.search(  \n",
    "    search_text=search_word,  \n",
    "    vector_queries=[vector_query],\n",
    "    select=[\"Speaker\", \"Text\",\"Meeting\", \"Session\"],\n",
    "    top=3\n",
    ")  \n",
    "  \n",
    "for result in results:  \n",
    "    print(f\"Score: {result['@search.score']}\")  \n",
    "    print(f\"Text: {result['Text']}\\n\")  \n",
    "    print(f\"Country: {result['Speaker']}\\n\")  \n",
    "    print(f\"Meeting: {result['Meeting']}\\n\")  \n",
    "    print(f\"Session: {result['Session']}\\n\") \n",
    "    print(\"###############################\")"
   ]
  },
  {
   "cell_type": "code",
   "execution_count": null,
   "metadata": {},
   "outputs": [],
   "source": [
    "#vector search\n",
    "search_client = SearchClient(ai_search_url, ai_search_index, AzureKeyCredential(ai_search_key))  \n",
    "vector_query = VectorizedQuery(vector=question, \n",
    "                               k_nearest_neighbors=3, \n",
    "                               fields=\"SpeakerEmbeddings\")\n",
    "\n",
    "results = search_client.search(  \n",
    "    search_text=None,  \n",
    "    vector_queries=[vector_query],\n",
    "    select=[\"Speaker\", \"Text\",\"Meeting\", \"Session\"],\n",
    "    top=5\n",
    ")  \n",
    "  \n",
    "for result in results:  \n",
    "    print(f\"Score: {result['@search.score']}\")  \n",
    "    print(f\"Captions: {result['@search.captions']}\")  \n",
    "    print(f\"Highlights: {result['@search.highlights']}\")  \n",
    "    print(f\"Text: {result['Text']}\\n\")  \n",
    "    print(f\"Country: {result['Speaker']}\\n\")  \n",
    "    print(f\"Meeting: {result['Meeting']}\\n\")  \n",
    "    print(f\"Session: {result['Session']}\\n\")  \n",
    "    print(\"###############################\") "
   ]
  },
  {
   "cell_type": "code",
   "execution_count": 17,
   "metadata": {},
   "outputs": [
    {
     "name": "stdout",
     "output_type": "stream",
     "text": [
      "Score: 1.0\n",
      "Captions: None\n",
      "Highlights: None\n",
      "Text: Mr. Chairman. We would like to take the floor on both sub items on the topic. Two subtopic A&B, In conjunction in this connection. We would like to underscore.  That outer space capabilities, also called anti space capabilities are one of the key categories of systems. Which require very serious consideration and regulation as part of the work to prevent an arms race in outer space. It is our view that discussion of norms, rules, and principles, Concerning such systems. Require consideration of the aspects\n",
      "\n",
      "Country: Russia\n",
      "\n",
      "Meeting: 5\n",
      "\n",
      "Session: 3\n",
      "\n",
      "###############################\n",
      "Score: 1.0\n",
      "Captions: None\n",
      "Highlights: None\n",
      "Text: It is our view that discussion of norms, rules, and principles, Concerning such systems. Require consideration of the aspects of the functioning of those systems that are both Earth and space based. As we have already noted in light of the growing threat of weaponization of space in connection with the policy of a series of UN member states To place weapons in space And use outer space for undertaking military activity With a view to ensuring their dominance And prevalence superiority. There is a need as\n",
      "\n",
      "Country: Russia\n",
      "\n",
      "Meeting: 5\n",
      "\n",
      "Session: 3\n",
      "\n",
      "###############################\n",
      "Score: 1.0\n",
      "Captions: None\n",
      "Highlights: None\n",
      "Text: space for undertaking military activity With a view to ensuring their dominance And prevalence superiority. There is a need as an intermediary measure to affirm the predominance Of the existing and enforce international legal norms and principles Regulating activities in space. First and foremost, the 1967 Space Treaty And the resolution of the first UN General Assembly Special Session on Disarmament of 1978 Ssot 1As well as a series of other documents which we have made reference to yesterday morning. At\n",
      "\n",
      "Country: Russia\n",
      "\n",
      "Meeting: 5\n",
      "\n",
      "Session: 3\n",
      "\n",
      "###############################\n"
     ]
    }
   ],
   "source": [
    "#Exhaustive KNN Search and speaker embeddings\n",
    "search_client = SearchClient(ai_search_url, ai_search_index, AzureKeyCredential(ai_search_key)) \n",
    "vector_query = VectorizedQuery(vector=question, k_nearest_neighbors=3, \n",
    "                               fields=\"SpeakerEmbeddings\",exhaustive=True)\n",
    "\n",
    "results = search_client.search(  \n",
    "    search_text=None,  \n",
    "    vector_queries=[vector_query],\n",
    "    select=[\"Speaker\", \"Text\",\"Meeting\", \"Session\"],\n",
    "    top=3\n",
    ")  \n",
    "  \n",
    "for result in results:  \n",
    "    print(f\"Score: {result['@search.score']}\")  \n",
    "    print(f\"Captions: {result['@search.captions']}\")  \n",
    "    print(f\"Highlights: {result['@search.highlights']}\")  \n",
    "    print(f\"Text: {result['Text']}\\n\")  \n",
    "    print(f\"Country: {result['Speaker']}\\n\")  \n",
    "    print(f\"Meeting: {result['Meeting']}\\n\")  \n",
    "    print(f\"Session: {result['Session']}\\n\")  \n",
    "    print(\"###############################\") "
   ]
  },
  {
   "cell_type": "code",
   "execution_count": 18,
   "metadata": {},
   "outputs": [
    {
     "name": "stdout",
     "output_type": "stream",
     "text": [
      "Score: 0.62874544\n",
      "Captions: None\n",
      "Highlights: None\n",
      "Text: countries, including those identified as potential drop zones of re-entering debris from the launch that pose a potential risk of injury to people or damage or destruction to property. Thank you, Mr. Chair.\n",
      "\n",
      "Country: Philippines\n",
      "\n",
      "Meeting: 5\n",
      "\n",
      "Session: 3\n",
      "\n",
      "###############################\n",
      "Score: 0.6224268\n",
      "Captions: None\n",
      "Highlights: None\n",
      "Text: I thank the distinguished representative of of the Russian Federation. And now I would like to give the photo, the distinguished representative of Iran. You have the first, Sir.\n",
      "\n",
      "Country: Chairman\n",
      "\n",
      "Meeting: 5\n",
      "\n",
      "Session: 3\n",
      "\n",
      "###############################\n",
      "Score: 0.6182716\n",
      "Captions: None\n",
      "Highlights: None\n",
      "Text: What's but esteemed chairperson the Russian Federation considers Outer space as an exclusively peaceful environment, Space vehicles Execute numerous and very varied functions. This includes supporting communications Research into the surface of the Earth And the Near Earth Space orbit and much more Satellites in orbit And also space systems and equipment. By their very nature, can be deployed. Both for peaceful and military purposes. Therefore, any assessment of dual use potential Should be conducted on the\n",
      "\n",
      "Country: Russia\n",
      "\n",
      "Meeting: 5\n",
      "\n",
      "Session: 3\n",
      "\n",
      "###############################\n"
     ]
    }
   ],
   "source": [
    "#Exhaustive KNN Search and text embeddings\n",
    "search_client = SearchClient(ai_search_url, ai_search_index, AzureKeyCredential(ai_search_key)) \n",
    "vector_query = VectorizedQuery(vector=question, k_nearest_neighbors=3, \n",
    "                               fields=\"TextEmbeddings\",exhaustive=True)\n",
    "\n",
    "results = search_client.search(  \n",
    "    search_text=None,  \n",
    "    vector_queries=[vector_query],\n",
    "    select=[\"Speaker\", \"Text\",\"Meeting\", \"Session\"],\n",
    "    top=3\n",
    ")  \n",
    "  \n",
    "for result in results:  \n",
    "    print(f\"Score: {result['@search.score']}\")  \n",
    "    print(f\"Captions: {result['@search.captions']}\")  \n",
    "    print(f\"Highlights: {result['@search.highlights']}\")  \n",
    "    print(f\"Text: {result['Text']}\\n\")  \n",
    "    print(f\"Country: {result['Speaker']}\\n\")  \n",
    "    print(f\"Meeting: {result['Meeting']}\\n\")  \n",
    "    print(f\"Session: {result['Session']}\\n\")  \n",
    "    print(\"###############################\") "
   ]
  },
  {
   "cell_type": "code",
   "execution_count": 19,
   "metadata": {},
   "outputs": [],
   "source": [
    "#semantic search and Text embeddings\n",
    "search_client = SearchClient(ai_search_url, ai_search_index, AzureKeyCredential(ai_search_key))   \n",
    "vector_query = VectorizedQuery(vector=question, \n",
    "                               k_nearest_neighbors=3, \n",
    "                               fields=\"TextEmbedding\")\n",
    "\n",
    "results = search_client.search(  \n",
    "    search_text=search_word,  \n",
    "    vector_queries=[vector_query],\n",
    "    select=[\"Speaker\", \"Text\",\"Meeting\", \"Session\"],\n",
    "    query_type=QueryType.SEMANTIC, \n",
    "    semantic_configuration_name='my-semantic-config', \n",
    "    query_caption=QueryCaptionType.EXTRACTIVE, \n",
    "    query_answer=QueryAnswerType.EXTRACTIVE,\n",
    "    top=3\n",
    ")  "
   ]
  },
  {
   "cell_type": "code",
   "execution_count": null,
   "metadata": {},
   "outputs": [],
   "source": [
    "#not available for free version\n",
    "semantic_answers = results.get_answers()\n",
    "for answer in semantic_answers:\n",
    "    if answer.highlights:\n",
    "        print(f\"Semantic Answer: {answer.highlights}\")\n",
    "    else:\n",
    "        print(f\"Semantic Answer: {answer.text}\")\n",
    "    print(f\"Semantic Answer Score: {answer.score}\\n\")"
   ]
  },
  {
   "cell_type": "code",
   "execution_count": null,
   "metadata": {},
   "outputs": [],
   "source": [
    "#not available for free version\n",
    "for result in results:\n",
    "    print(f\"Reranker Score: {result['@search.reranker_score']}\")\n",
    "    print(f\"Content: {result['Text']}\\n\")\n",
    "\n",
    "    captions = result[\"@search.captions\"]\n",
    "    if captions:\n",
    "        caption = captions[0]\n",
    "        if caption.highlights:\n",
    "            print(f\"Caption: {caption.highlights}\\n\")\n",
    "        else:\n",
    "            print(f\"Caption: {caption.text}\\n\")"
   ]
  }
 ],
 "metadata": {
  "kernelspec": {
   "display_name": "Python 3",
   "language": "python",
   "name": "python3"
  },
  "language_info": {
   "codemirror_mode": {
    "name": "ipython",
    "version": 3
   },
   "file_extension": ".py",
   "mimetype": "text/x-python",
   "name": "python",
   "nbconvert_exporter": "python",
   "pygments_lexer": "ipython3",
   "version": "3.11.5"
  }
 },
 "nbformat": 4,
 "nbformat_minor": 2
}

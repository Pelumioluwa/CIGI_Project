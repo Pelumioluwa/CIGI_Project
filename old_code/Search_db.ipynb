{
 "cells": [
  {
   "cell_type": "markdown",
   "metadata": {},
   "source": [
    "## This notebook retrieves data from the database"
   ]
  },
  {
   "cell_type": "code",
   "execution_count": 45,
   "metadata": {},
   "outputs": [],
   "source": [
    "#import libraries\n",
    "import os\n",
    "import re\n",
    "from langchain_community.embeddings import HuggingFaceEmbeddings\n",
    "import json\n",
    "import pandas as pd\n",
    "from openai import OpenAI\n",
    "from dotenv import dotenv_values\n",
    "import json \n",
    "import requests\n",
    "from azure.core.credentials import AzureKeyCredential  \n",
    "from azure.search.documents import SearchClient\n",
    "from azure.search.documents.models import (\n",
    "    QueryAnswerType,\n",
    "    QueryCaptionType,\n",
    "    QueryType,\n",
    "    VectorizedQuery   \n",
    ")\n"
   ]
  },
  {
   "cell_type": "code",
   "execution_count": 56,
   "metadata": {},
   "outputs": [],
   "source": [
    "#import cosmos db credentials \n",
    "config = dotenv_values('credential.env')\n",
    "ai_search_location = config['ai_search_location']\n",
    "ai_search_key = config['ai_search_key']\n",
    "ai_search_url = config['ai_search_url']\n",
    "ai_search_index = 'oewg-speech-meeeting-index'\n",
    "ai_search_name = 'oewg-meeting'\n",
    "\n",
    "openai_key = config['openai_api_key']\n",
    "openai_deployment_name = \"gpt-4\"\n",
    "openai_url = config['open_ai_endpoint']\n",
    "search_client = SearchClient(ai_search_url, ai_search_index, AzureKeyCredential(ai_search_key)) "
   ]
  },
  {
   "cell_type": "code",
   "execution_count": 21,
   "metadata": {},
   "outputs": [],
   "source": [
    "#convert data to vector embeddings\n",
    "def generate_embeddings(text):\n",
    "    embedding_model = HuggingFaceEmbeddings(model_name=\"sentence-transformers/all-mpnet-base-v2\")\n",
    "    embeddings = embedding_model.embed_query(text)\n",
    "    return embeddings"
   ]
  },
  {
   "cell_type": "code",
   "execution_count": 49,
   "metadata": {},
   "outputs": [],
   "source": [
    "question = 'what is iran stand?'\n",
    "question_embedding = generate_embeddings(question)"
   ]
  },
  {
   "cell_type": "code",
   "execution_count": 81,
   "metadata": {},
   "outputs": [],
   "source": [
    "def retrieve_vector_top_chunks(k, question_embedding):\n",
    "    \"\"\"Retrieve the top K entries from Azure AI Search using vector search with speaker embedding.\"\"\" \n",
    "    vector_query = VectorizedQuery(vector=question_embedding, \n",
    "                                k_nearest_neighbors=k, \n",
    "                                fields=\"SpeakerEmbeddings\")\n",
    "\n",
    "    results = search_client.search(  \n",
    "        search_text=None,  \n",
    "        vector_queries=[vector_query],\n",
    "        select=[\"Speaker\", \"Text\",\"Meeting\", \"Session\"],\n",
    "        top=k\n",
    "    )  \n",
    "    output = [[f'Session: {result[\"Session\"]}',f'Session: {result[\"Meeting\"]}',f'{result[\"Speaker\"]}: {result[\"Text\"]}'] for result in results]\n",
    "\n",
    "    return output\n",
    "\n"
   ]
  },
  {
   "cell_type": "code",
   "execution_count": 82,
   "metadata": {},
   "outputs": [
    {
     "name": "stdout",
     "output_type": "stream",
     "text": [
      "['Session: 3', 'Session: 5', 'Iran: To the chair for this morning meeting with so far, and I had the intention to keep silence, to actually listen carefully to what other colleagues are saying, Of course, before me, distinguished representative of the Russian Federation has put some difficult elements of this issue of dual use capability so far, in particular supporting. His view regarding, That to what extent? This dealing with the issue through through a perceptions or misperceptions and based on behavioural approach would have a lot of']\n",
      "['Session: 3', 'Session: 5', 'Iran: of the dual use capabilities. So but so far however, Experience has shown that discussion of dual use capability and other disarmament fora has resulted in exerting 2 policies of restrictions and export controlled by developed countries against developing countries. That would hamper their peaceful use Exploration and use of outer space and that is the outer space activity which is now very needed for their daily life. We are of the view that resorting to dual use capability context might be converted to a']\n",
      "['Session: 3', 'Session: 5', 'Iran: arbitrary judgment and so far this morning the issue of intent was addressed. The issue of intent is also very complex. So far, experience of other international instruments like CWC has shown that although CWC has been entered into force. More than 20 years and it was the careful and very explicit Commitment of developed countries that after the CWC is entered into force, such export control policies would be removed. But experience has shown that the export control policies has kept and yet after 20']\n"
     ]
    }
   ],
   "source": [
    "results = retrieve_vector_top_chunks(3, question_embedding)\n",
    "for result in results:\n",
    "    print(result)"
   ]
  },
  {
   "cell_type": "code",
   "execution_count": 94,
   "metadata": {},
   "outputs": [],
   "source": [
    "def retrieve_hybrid_top_chunks(k, question, question_embedding):\n",
    "    \"\"\"Retrieve the top K entries from Azure AI Search using hybrid search with speaker embedding.\"\"\" \n",
    "    vector_query = VectorizedQuery(vector=question_embedding, \n",
    "                                k_nearest_neighbors=k, \n",
    "                                fields=\"TextEmbeddings\")\n",
    "\n",
    "    results = search_client.search(  \n",
    "        search_text=question,  \n",
    "        vector_queries=[vector_query],\n",
    "        select=[\"Speaker\", \"Text\",\"Meeting\", \"Session\"],\n",
    "        top=k\n",
    "    )    \n",
    "\n",
    "    output = [[f'Session: {result[\"Session\"]}',f'Session: {result[\"Meeting\"]}',f'{result[\"Speaker\"]}: {result[\"Text\"]}'] for result in results]  \n",
    "\n",
    "    return output"
   ]
  },
  {
   "cell_type": "code",
   "execution_count": 95,
   "metadata": {},
   "outputs": [
    {
     "data": {
      "text/plain": [
       "[['Session: 3',\n",
       "  'Session: 5',\n",
       "  'Chairman: I thank the distinguished representative of Iran for his statement. And now I would like to give the floor to the distinguished representative of the Republic of Korea. You have the floor.'],\n",
       " ['Session: 3',\n",
       "  'Session: 5',\n",
       "  'Chairman: I thank the distinguished representative of of the Russian Federation. And now I would like to give the photo, the distinguished representative of Iran. You have the first, Sir.'],\n",
       " ['Session: 3',\n",
       "  'Session: 5',\n",
       "  'Iran: To the chair for this morning meeting with so far, and I had the intention to keep silence, to actually listen carefully to what other colleagues are saying, Of course, before me, distinguished representative of the Russian Federation has put some difficult elements of this issue of dual use capability so far, in particular supporting. His view regarding, That to what extent? This dealing with the issue through through a perceptions or misperceptions and based on behavioural approach would have a lot of']]"
      ]
     },
     "execution_count": 95,
     "metadata": {},
     "output_type": "execute_result"
    }
   ],
   "source": [
    "results = retrieve_hybrid_top_chunks(3, question, question_embedding)\n",
    "results"
   ]
  },
  {
   "cell_type": "code",
   "execution_count": 98,
   "metadata": {},
   "outputs": [],
   "source": [
    "def retrieve_knn_top_chunks(k, question_embedding):\n",
    "    \"\"\"Retrieve the top K entries from Azure AI Search using hybrid search with Text embedding.\"\"\"\n",
    "    vector_query = VectorizedQuery(vector=question_embedding, k_nearest_neighbors=k, \n",
    "                                fields=\"SpeakerEmbeddings\",exhaustive=True)\n",
    "\n",
    "    results = search_client.search(  \n",
    "        search_text=None,  \n",
    "        vector_queries=[vector_query],\n",
    "        select=[\"Speaker\", \"Text\",\"Meeting\", \"Session\"],\n",
    "        top=k\n",
    "    )  \n",
    "    output = [[f'Session: {result[\"Session\"]}',f'Session: {result[\"Meeting\"]}',f'{result[\"Speaker\"]}: {result[\"Text\"]}'] for result in results]  \n",
    "\n",
    "    return output"
   ]
  },
  {
   "cell_type": "code",
   "execution_count": 99,
   "metadata": {},
   "outputs": [
    {
     "data": {
      "text/plain": [
       "[['Session: 3',\n",
       "  'Session: 5',\n",
       "  'Iran: To the chair for this morning meeting with so far, and I had the intention to keep silence, to actually listen carefully to what other colleagues are saying, Of course, before me, distinguished representative of the Russian Federation has put some difficult elements of this issue of dual use capability so far, in particular supporting. His view regarding, That to what extent? This dealing with the issue through through a perceptions or misperceptions and based on behavioural approach would have a lot of'],\n",
       " ['Session: 3',\n",
       "  'Session: 5',\n",
       "  'Iran: dealing with the issue through through a perceptions or misperceptions and based on behavioural approach would have a lot of side effects for the developing countries. Peaceful use of outer space, which is Now very needed in the everyday life of countries. So far this issue of operations involving dual use capability in our view is among the very complex issues that require careful examination. Some states of course this morning addressing this issue in the context that rendezvous and approximately'],\n",
       " ['Session: 3',\n",
       "  'Session: 5',\n",
       "  'Iran: careful examination. Some states of course this morning addressing this issue in the context that rendezvous and approximately operations. Which is their concern and therefore they recommend that any such operations are going to happen. If it is going to happen, it should be by prior consent. Of other states that have the capability in outer space. Of course this is one of the aspect of the dual use capabilities. So but so far however, Experience has shown that discussion of dual use capability and other']]"
      ]
     },
     "execution_count": 99,
     "metadata": {},
     "output_type": "execute_result"
    }
   ],
   "source": [
    "results = retrieve_knn_top_chunks(3, question_embedding)\n",
    "results\n"
   ]
  },
  {
   "cell_type": "code",
   "execution_count": 100,
   "metadata": {},
   "outputs": [],
   "source": [
    "def get_vector_context(user_question, retrieved_k = 5):\n",
    "    # Generate embeddings for the question\n",
    "    question_embedding = generate_embeddings(user_question)\n",
    "\n",
    "    # Retrieve the top K entries\n",
    "    output = retrieve_vector_top_chunks(retrieved_k, question_embedding)\n",
    "\n",
    "    # concatenate the content of the retrieved documents\n",
    "    context = '. '.join([item for sublist in output for item in sublist])\n",
    "\n",
    "    return context"
   ]
  },
  {
   "cell_type": "code",
   "execution_count": 101,
   "metadata": {},
   "outputs": [
    {
     "data": {
      "text/plain": [
       "\"Session: 3. Session: 5. Iran: To the chair for this morning meeting with so far, and I had the intention to keep silence, to actually listen carefully to what other colleagues are saying, Of course, before me, distinguished representative of the Russian Federation has put some difficult elements of this issue of dual use capability so far, in particular supporting. His view regarding, That to what extent? This dealing with the issue through through a perceptions or misperceptions and based on behavioural approach would have a lot of. Session: 3. Session: 5. Iran: now very needed for their daily life. We are of the view that resorting to dual use capability context might be converted to a tool in hands of some to exert to discrimination policies. So, taking into account dual use capability, it might be in the context of behavioral approach would lead to misleading policies. Therefore, instead of instead of such a such a denial approaches that comes from such a behavioral approach. I think we should resort to assurance and reassurance approaches through legal norms. Session: 3. Session: 5. Iran: doomed to failure. Such as strategy seeks to prohibit access to some technologies and tools that can become becomes in the mind of those have resorting to export control that those are weapons. The strategy seeks to prevent possible capabilities that can threaten the opposite country. Therefore, it seeks to limit The critical assets and capacities of developing countries of whether they seek such a goals or not. A denial strategy, equally exclude an opponent from taking undesirable action, but it does not. Session: 3. Session: 5. Iran: transferring to opponents leaning to attack. In other type of denial strategy, a protagonist acts to limit an opponent's capacity to project power by destroying critical assets belonging to the opponent. Therefore, for such a reasoning and argument, we believe that the issue of capable dual use capability should be examined in the context that what will be the end result of such policy as it is followed. Therefore, we believe that this should be discussed in terms of the negotiation of a legal binding. Session: 3. Session: 5. Iran: of technology and also international cooperation is part and parcel of the 21 guideline that is. Under discussion in the long term sustainability Therefore, the issue of military use as well as peaceful use are two sides of a coin, and we should be very careful when examining such a concepts here in the context of the OEWG. Thank you so much.\""
      ]
     },
     "execution_count": 101,
     "metadata": {},
     "output_type": "execute_result"
    }
   ],
   "source": [
    "context = get_vector_context('iran', retrieved_k = 5)\n",
    "context"
   ]
  },
  {
   "cell_type": "code",
   "execution_count": 102,
   "metadata": {},
   "outputs": [],
   "source": [
    "def get_hybrid_context(user_question, retrieved_k = 5):\n",
    "    # Generate embeddings for the question\n",
    "    question_embedding = generate_embeddings(user_question)\n",
    "\n",
    "    # Retrieve the top K entries\n",
    "    output = retrieve_hybrid_top_chunks(retrieved_k, user_question, question_embedding)\n",
    "\n",
    "    # concatenate the content of the retrieved documents\n",
    "    context = '. '.join([item for sublist in output for item in sublist])\n",
    "\n",
    "    return context"
   ]
  },
  {
   "cell_type": "code",
   "execution_count": 103,
   "metadata": {},
   "outputs": [
    {
     "data": {
      "text/plain": [
       "\"Session: 3. Session: 5. Chairman: I thank the distinguished representative of Iran for his statement. And now I would like to give the floor to the distinguished representative of the Republic of Korea. You have the floor.. Session: 3. Session: 5. Chairman: I thank the distinguished representative of of the Russian Federation. And now I would like to give the photo, the distinguished representative of Iran. You have the first, Sir.. Session: 3. Session: 5. Philippines: countries, including those identified as potential drop zones of re-entering debris from the launch that pose a potential risk of injury to people or damage or destruction to property. Thank you, Mr. Chair.. Session: 3. Session: 5. Iran: To the chair for this morning meeting with so far, and I had the intention to keep silence, to actually listen carefully to what other colleagues are saying, Of course, before me, distinguished representative of the Russian Federation has put some difficult elements of this issue of dual use capability so far, in particular supporting. His view regarding, That to what extent? This dealing with the issue through through a perceptions or misperceptions and based on behavioural approach would have a lot of. Session: 3. Session: 5. Korea: for peaceful purposes It's relieving to hear that all the countries are reaffirming that principles. And 2nd, we have to also assert that we are not a Western country and then we have been making our position, but we wanted to clarify again on our views of the OEWG. We agree that intentions are subjective and they are hard to observe. That's why we have been proposing to take our approach based on based on observable behavior And coming back to the dual use nature of the issues. It will be very difficult\""
      ]
     },
     "execution_count": 103,
     "metadata": {},
     "output_type": "execute_result"
    }
   ],
   "source": [
    "context = get_hybrid_context('iran', retrieved_k = 5)\n",
    "context"
   ]
  },
  {
   "cell_type": "code",
   "execution_count": 104,
   "metadata": {},
   "outputs": [],
   "source": [
    "def get_knn_context(user_question, retrieved_k = 5):\n",
    "    # Generate embeddings for the question\n",
    "    question_embedding = generate_embeddings(user_question)\n",
    "\n",
    "    # Retrieve the top K entries\n",
    "    output = retrieve_knn_top_chunks(retrieved_k, question_embedding)\n",
    "\n",
    "    # concatenate the content of the retrieved documents\n",
    "    context = '. '.join([item for sublist in output for item in sublist])\n",
    "\n",
    "    return context"
   ]
  },
  {
   "cell_type": "code",
   "execution_count": 105,
   "metadata": {},
   "outputs": [
    {
     "data": {
      "text/plain": [
       "'Session: 3. Session: 5. Iran: To the chair for this morning meeting with so far, and I had the intention to keep silence, to actually listen carefully to what other colleagues are saying, Of course, before me, distinguished representative of the Russian Federation has put some difficult elements of this issue of dual use capability so far, in particular supporting. His view regarding, That to what extent? This dealing with the issue through through a perceptions or misperceptions and based on behavioural approach would have a lot of. Session: 3. Session: 5. Iran: dealing with the issue through through a perceptions or misperceptions and based on behavioural approach would have a lot of side effects for the developing countries. Peaceful use of outer space, which is Now very needed in the everyday life of countries. So far this issue of operations involving dual use capability in our view is among the very complex issues that require careful examination. Some states of course this morning addressing this issue in the context that rendezvous and approximately. Session: 3. Session: 5. Iran: careful examination. Some states of course this morning addressing this issue in the context that rendezvous and approximately operations. Which is their concern and therefore they recommend that any such operations are going to happen. If it is going to happen, it should be by prior consent. Of other states that have the capability in outer space. Of course this is one of the aspect of the dual use capabilities. So but so far however, Experience has shown that discussion of dual use capability and other. Session: 3. Session: 5. Iran: of the dual use capabilities. So but so far however, Experience has shown that discussion of dual use capability and other disarmament fora has resulted in exerting 2 policies of restrictions and export controlled by developed countries against developing countries. That would hamper their peaceful use Exploration and use of outer space and that is the outer space activity which is now very needed for their daily life. We are of the view that resorting to dual use capability context might be converted to a. Session: 3. Session: 5. Iran: now very needed for their daily life. We are of the view that resorting to dual use capability context might be converted to a tool in hands of some to exert to discrimination policies. So, taking into account dual use capability, it might be in the context of behavioral approach would lead to misleading policies. Therefore, instead of instead of such a such a denial approaches that comes from such a behavioral approach. I think we should resort to assurance and reassurance approaches through legal norms'"
      ]
     },
     "execution_count": 105,
     "metadata": {},
     "output_type": "execute_result"
    }
   ],
   "source": [
    "context = get_knn_context('iran', retrieved_k = 5)\n",
    "context"
   ]
  },
  {
   "cell_type": "code",
   "execution_count": 107,
   "metadata": {},
   "outputs": [],
   "source": [
    "#define chatbot \n",
    "def prompt_engineering(KnnContext, VectorContext,HybridContext):\n",
    "    KnnContext, VectorContext,HybridContext = KnnContext, VectorContext, HybridContext\n",
    "\n",
    "    chat_context_prompt = f\"\"\"\n",
    "\n",
    "    You are an assistant to answer questions about the Meetings by the UN Open Ended Working Group on Space Threats. \n",
    "    Do not hallucinate. \n",
    "    Use all the information below to answer your questions\n",
    "    \n",
    "    first information: {VectorContext}\n",
    "\n",
    "    Second information : {HybridContext}\n",
    "\n",
    "    Third information : {KnnContext}\n",
    "\n",
    "    If the answer to the question is not in information above,respond 'I am unable to provide a response on that'\n",
    "\n",
    "    \"\"\"\n",
    "\n",
    "    return chat_context_prompt"
   ]
  },
  {
   "cell_type": "code",
   "execution_count": 108,
   "metadata": {},
   "outputs": [],
   "source": [
    "client = OpenAI(api_key=openai_key)\n",
    "\n",
    "def PR_Assistant(text,chat_context_prompt):\n",
    "    MESSAGES = [\n",
    "    {\"role\": \"system\", \"content\": chat_context_prompt},\n",
    "    {\"role\": \"user\", \"content\": text},\n",
    "    ]\n",
    "    MESSAGES.append({\"role\": \"user\", \"content\": text})\n",
    "\n",
    "    completion = client.chat.completions.create(model=\"gpt-4\", messages=MESSAGES,temperature=0.9)\n",
    "    return completion.choices[0].message.content"
   ]
  },
  {
   "cell_type": "code",
   "execution_count": 109,
   "metadata": {},
   "outputs": [
    {
     "name": "stderr",
     "output_type": "stream",
     "text": [
      "huggingface/tokenizers: The current process just got forked, after parallelism has already been used. Disabling parallelism to avoid deadlocks...\n",
      "To disable this warning, you can either:\n",
      "\t- Avoid using `tokenizers` before the fork if possible\n",
      "\t- Explicitly set the environment variable TOKENIZERS_PARALLELISM=(true | false)\n"
     ]
    },
    {
     "name": "stdout",
     "output_type": "stream",
     "text": [
      "Iran expressed concerns about dual use capabilities in space operations, citing that the behavioural approach to this issue could lead to misperceptions and unintended side effects for developing countries. They suggested that this issue is complex and requires careful examination. Iran is of the view that the dual use capability context could potentially be used as a tool for some to exert discriminatory policies. Therefore, they recommend assurance and reassurance approaches through legal norms. Iran also emphasized the importance of peaceful use of outer space, which is very needed for everyday life in countries. They warned against policies of restrictions and export control by developed countries against developing nations that could hamper their peaceful exploration and use of outer space.\n"
     ]
    }
   ],
   "source": [
    "question = \"What is iran's overall sentiment?\"\n",
    "\n",
    "KnnContext = get_knn_context(question, retrieved_k = 5)\n",
    "VectorContext = get_vector_context(question, retrieved_k = 5)\n",
    "HybridContext = get_hybrid_context(question, retrieved_k = 5)\n",
    "\n",
    "chat_context_prompt = prompt_engineering(KnnContext, VectorContext,HybridContext)\n",
    "\n",
    "client_response = PR_Assistant(question, chat_context_prompt)\n",
    "\n",
    "print(client_response)"
   ]
  },
  {
   "cell_type": "markdown",
   "metadata": {},
   "source": [
    "Iran expressed concerns about dual use capabilities in space operations, citing that the behavioural approach to this issue could lead to misperceptions and unintended side effects for developing countries. They suggested that this issue is complex and requires careful examination. Iran is of the view that the dual use capability context could potentially be used as a tool for some to exert discriminatory policies. Therefore, they recommend assurance and reassurance approaches through legal norms. Iran also emphasized the importance of peaceful use of outer space, which is very needed for everyday life in countries. They warned against policies of restrictions and export control by developed countries against developing nations that could hamper their peaceful exploration and use of outer space."
   ]
  },
  {
   "cell_type": "code",
   "execution_count": 110,
   "metadata": {},
   "outputs": [
    {
     "name": "stdout",
     "output_type": "stream",
     "text": [
      "I am unable to provide a response on that. The provided information does not indicate specific countries that share similar sentiments with Iran on the discussed issues.\n"
     ]
    }
   ],
   "source": [
    "question = \"list the countries that have similar sentiments to iran?\"\n",
    "\n",
    "KnnContext = get_knn_context(question, retrieved_k = 5)\n",
    "VectorContext = get_vector_context(question, retrieved_k = 5)\n",
    "HybridContext = get_hybrid_context(question, retrieved_k = 5)\n",
    "\n",
    "chat_context_prompt = prompt_engineering(KnnContext, VectorContext,HybridContext)\n",
    "\n",
    "client_response = PR_Assistant(question, chat_context_prompt)\n",
    "\n",
    "print(client_response)"
   ]
  },
  {
   "cell_type": "code",
   "execution_count": 111,
   "metadata": {},
   "outputs": [
    {
     "name": "stdout",
     "output_type": "stream",
     "text": [
      "In Session 3, Meeting 5, the United States raised concerns about the Chinese system She-Jin 21 (SJ21), which is described as being used to test and verify space debris mitigation technologies. The U.S. expressed frustration at having to rely on military, civil, and commercial space situational awareness systems to detect the behavior of SJ21, rather than receiving information about its function and intentions from China. \n",
      "\n",
      "The U.S. also discussed the issue of using civil space systems for military purposes and expressed the opinion that banning such usage is not possible since many militaries use dual-purpose systems. Instead of legally binding restrictions, the U.S. proposed that states consider elaborating general principles. \n",
      "\n",
      "The U.S. expressed a desire for open dialogue and communication between states to avoid misunderstandings and misperceptions. \n",
      "\n",
      "Later in the session, the U.S. reiterated the importance of space launch notifications, citing that they reduce tensions and aid countries in conducting space traffic management. \n",
      "\n",
      "Finally, the U.S. shared its views on the challenge of distinguishing between civilian and military use of space systems, and the potential for misunderstanding in an environment of mistrust.\n"
     ]
    }
   ],
   "source": [
    "question = \"what did the united states say in session 3 meeting 5?\"\n",
    "\n",
    "KnnContext = get_knn_context(question, retrieved_k = 5)\n",
    "VectorContext = get_vector_context(question, retrieved_k = 5)\n",
    "HybridContext = get_hybrid_context(question, retrieved_k = 5)\n",
    "\n",
    "chat_context_prompt = prompt_engineering(KnnContext, VectorContext,HybridContext)\n",
    "\n",
    "client_response = PR_Assistant(question, chat_context_prompt)\n",
    "\n",
    "print(client_response)"
   ]
  }
 ],
 "metadata": {
  "kernelspec": {
   "display_name": "Python 3",
   "language": "python",
   "name": "python3"
  },
  "language_info": {
   "codemirror_mode": {
    "name": "ipython",
    "version": 3
   },
   "file_extension": ".py",
   "mimetype": "text/x-python",
   "name": "python",
   "nbconvert_exporter": "python",
   "pygments_lexer": "ipython3",
   "version": "3.11.5"
  }
 },
 "nbformat": 4,
 "nbformat_minor": 2
}

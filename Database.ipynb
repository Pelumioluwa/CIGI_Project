{
 "cells": [
  {
   "cell_type": "markdown",
   "metadata": {},
   "source": [
    "## Database Creation\n",
    "This notebook creates a database on Microsoft Cosmo DB of audio transcription for the Open-ended Working Group on Reducing Space Threats. It follows the steps below.\n",
    "1. Creation of a database on Cosmo db"
   ]
  }
 ],
 "metadata": {
  "language_info": {
   "name": "python"
  }
 },
 "nbformat": 4,
 "nbformat_minor": 2
}

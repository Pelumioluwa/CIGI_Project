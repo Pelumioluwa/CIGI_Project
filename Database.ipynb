{
 "cells": [
  {
   "cell_type": "markdown",
   "metadata": {},
   "source": [
    "## Database Creation\n",
    "This notebook creates a database on Microsoft Cosmo DB of audio transcription for the Open-ended Working Group on Reducing Space Threats. It follows the steps below.\n",
    "1. Creation of a database on Cosmo db"
   ]
  },
  {
   "cell_type": "code",
   "execution_count": 4,
   "metadata": {},
   "outputs": [
    {
     "name": "stdout",
     "output_type": "stream",
     "text": [
      "Pelumioluwa/CIGI_Project.gitignore is not a directory or does not exist\n"
     ]
    }
   ],
   "source": [
    "import os\n",
    "\n",
    "# Specify the path to the .gitignore\n",
    "gitignore_path = \"Pelumioluwa/CIGI_Project.gitignore\"  # replace with the actual path\n",
    "\n",
    "# Check if .gitignore is a directory\n",
    "if os.path.isdir(gitignore_path):\n",
    "    # If it is a directory, remove it\n",
    "    os.rmdir(gitignore_path)\n",
    "    print(f\"Removed directory: {gitignore_path}\")\n",
    "else:\n",
    "    print(f\"{gitignore_path} is not a directory or does not exist\")"
   ]
  }
 ],
 "metadata": {
  "kernelspec": {
   "display_name": "Python 3",
   "language": "python",
   "name": "python3"
  },
  "language_info": {
   "codemirror_mode": {
    "name": "ipython",
    "version": 3
   },
   "file_extension": ".py",
   "mimetype": "text/x-python",
   "name": "python",
   "nbconvert_exporter": "python",
   "pygments_lexer": "ipython3",
   "version": "3.11.5"
  }
 },
 "nbformat": 4,
 "nbformat_minor": 2
}

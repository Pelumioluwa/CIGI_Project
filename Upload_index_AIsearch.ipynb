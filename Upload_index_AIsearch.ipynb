{
 "cells": [
  {
   "cell_type": "code",
   "execution_count": 1,
   "metadata": {},
   "outputs": [],
   "source": [
    "from dotenv import dotenv_values\n",
    "import requests\n",
    "import json\n",
    "import re\n",
    "import pandas as pd"
   ]
  },
  {
   "cell_type": "code",
   "execution_count": 2,
   "metadata": {},
   "outputs": [],
   "source": [
    "#import cosmos db credentials \n",
    "config = dotenv_values('credential.env')\n",
    "ai_search_location = config['ai_search_location']\n",
    "ai_search_key = config['ai_search_key']\n",
    "ai_search_url = config['ai_search_url']\n",
    "ai_search_index = 'oewg-speech-meeeting-index'\n",
    "ai_search_name = 'oewg-meeting'\n",
    "embedding_length = 768"
   ]
  },
  {
   "cell_type": "code",
   "execution_count": 3,
   "metadata": {},
   "outputs": [],
   "source": [
    "#read csv file\n",
    "df = pd.read_csv('/Users/pelumioluwaabiola/Desktop/Transcriptions/detailed_data/Meeting_5_Session_3.csv') "
   ]
  },
  {
   "cell_type": "code",
   "execution_count": 4,
   "metadata": {},
   "outputs": [
    {
     "data": {
      "text/html": [
       "<div>\n",
       "<style scoped>\n",
       "    .dataframe tbody tr th:only-of-type {\n",
       "        vertical-align: middle;\n",
       "    }\n",
       "\n",
       "    .dataframe tbody tr th {\n",
       "        vertical-align: top;\n",
       "    }\n",
       "\n",
       "    .dataframe thead th {\n",
       "        text-align: right;\n",
       "    }\n",
       "</style>\n",
       "<table border=\"1\" class=\"dataframe\">\n",
       "  <thead>\n",
       "    <tr style=\"text-align: right;\">\n",
       "      <th></th>\n",
       "      <th>id</th>\n",
       "      <th>Session</th>\n",
       "      <th>Meeting</th>\n",
       "      <th>Speaker</th>\n",
       "      <th>Text</th>\n",
       "      <th>TextEmbeddings</th>\n",
       "      <th>SpeakerEmbeddings</th>\n",
       "    </tr>\n",
       "  </thead>\n",
       "  <tbody>\n",
       "  </tbody>\n",
       "</table>\n",
       "</div>"
      ],
      "text/plain": [
       "Empty DataFrame\n",
       "Columns: [id, Session, Meeting, Speaker, Text, TextEmbeddings, SpeakerEmbeddings]\n",
       "Index: []"
      ]
     },
     "execution_count": 4,
     "metadata": {},
     "output_type": "execute_result"
    }
   ],
   "source": [
    "#check if there are dulplicate values in id column and print the duplicate rows\n",
    "duplicate = df[df.duplicated(['id'])]\n",
    "duplicate"
   ]
  },
  {
   "cell_type": "code",
   "execution_count": 5,
   "metadata": {},
   "outputs": [],
   "source": [
    "#read row by row and append to a list\n",
    "data = []\n",
    "for index, row in df.iterrows():\n",
    "    row_dict = {}\n",
    "    row_dict['id'] = row['id']\n",
    "    row_dict['Session'] = str(row['Session'])\n",
    "    row_dict['Meeting'] = str(row['Meeting'])\n",
    "    row_dict['Speaker'] = row['Speaker']\n",
    "    row_dict['Text'] = row['Text']\n",
    "    #convert text embeddings to list\n",
    "    row_dict['TextEmbeddings'] = json.loads(row['TextEmbeddings'])\n",
    "    row_dict['SpeakerEmbeddings'] = json.loads(row['SpeakerEmbeddings'])\n",
    "    row_dict['@search.action'] = 'upload'\n",
    "    data.append(row_dict)"
   ]
  },
  {
   "cell_type": "code",
   "execution_count": 6,
   "metadata": {},
   "outputs": [
    {
     "name": "stdout",
     "output_type": "stream",
     "text": [
      "upload status: Success\n"
     ]
    }
   ],
   "source": [
    "def insert_into_index(documents):\n",
    "    \"\"\"Uploads a list of 'documents' to Azure AI Search index.\"\"\"\n",
    "\n",
    "    url = f\"https://{ai_search_name}.search.windows.net/indexes/{ai_search_index}/docs/index?api-version=2023-11-01\"\n",
    "\n",
    "    payload = json.dumps({\"value\": documents})\n",
    "    headers = {\n",
    "        \"Content-Type\": \"application/json\",\n",
    "        \"api-key\": ai_search_key,\n",
    "    }\n",
    "\n",
    "    response = requests.request(\"POST\", url, headers=headers, data=payload)\n",
    "\n",
    "    if response.status_code == 200 or response.status_code == 201:\n",
    "        return \"Success\"\n",
    "    else:\n",
    "        return f\"Failure: {response.text}\"\n",
    "\n",
    "def make_safe_id(row_id: str):\n",
    "    \"\"\"Strips disallowed characters from row id for use as Azure AI search document ID.\"\"\"\n",
    "    return re.sub(\"[^0-9a-zA-Z_-]\", \"_\", row_id)\n",
    "\n",
    "#upload data in batchs of 1000\n",
    "BATCH_SIZE = 1000\n",
    "for i in range(0, len(data), BATCH_SIZE):\n",
    "    batch = data[i:i+BATCH_SIZE]\n",
    "    status = insert_into_index(batch)\n",
    "    print(f'upload status: {status}')"
   ]
  }
 ],
 "metadata": {
  "kernelspec": {
   "display_name": "Python 3",
   "language": "python",
   "name": "python3"
  },
  "language_info": {
   "codemirror_mode": {
    "name": "ipython",
    "version": 3
   },
   "file_extension": ".py",
   "mimetype": "text/x-python",
   "name": "python",
   "nbconvert_exporter": "python",
   "pygments_lexer": "ipython3",
   "version": "3.11.5"
  }
 },
 "nbformat": 4,
 "nbformat_minor": 2
}

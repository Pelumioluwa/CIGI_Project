{
 "cells": [
  {
   "cell_type": "markdown",
   "metadata": {},
   "source": [
    "## Data Ingestion\n",
    "This file processes the data for ingestion and database upload with the following steps:\n",
    "1. Data File Creation\n",
    "2. Data Chinking"
   ]
  },
  {
   "cell_type": "markdown",
   "metadata": {},
   "source": [
    "## Step 1 : Data File Creation \n",
    "In this step, the data is read from text file where speech is separated by delegates. This includes the following step\n",
    "1. Imports the data from delegated-separated speech text file \n",
    "2. Separates each text by ':' to indicate a new speaker delegate\n",
    "3. Creates a csv with columns for id, session, meeting, speaker and text and writes text into its corresponding columns"
   ]
  },
  {
   "cell_type": "code",
   "execution_count": 1,
   "metadata": {},
   "outputs": [],
   "source": [
    "text_file = '/Users/pelumioluwaabiola/Desktop/Transcriptions/Speaker-Labelled/Meeting_5_Session_3.txt'\n",
    "csv_file = '/Users/pelumioluwaabiola/Desktop/Transcriptions/csv/Meeting_5_Session_3.csv'"
   ]
  },
  {
   "cell_type": "code",
   "execution_count": 5,
   "metadata": {},
   "outputs": [],
   "source": [
    "import csv\n",
    "\n",
    "def split_text(text, delimiter=': '):\n",
    "    pairs = []\n",
    "    num_session = 3  # Change this num to match with your file session, like Session 2 and Meeting 2\n",
    "    num_meeting = 5  # Change this num to match with your file session, like Session 2 and Meeting 2\n",
    "    numspeaker = 0  # Don't change, this one is for counting the number of speakers in your txt file \n",
    "    for line in text.split(\"\\n\"):\n",
    "        if delimiter in line:\n",
    "            numspeaker += 1\n",
    "\n",
    "            id = f'S{num_session}M{num_meeting}{numspeaker}'\n",
    "            parts = line.split(delimiter, 1)  \n",
    "            pairs.append((id, num_session, num_meeting, parts[0].strip(), parts[1].strip()))\n",
    "    return pairs\n",
    "\n",
    "# Read text from file\n",
    "with open(text_file, 'r', encoding='utf-8', errors='ignore') as file:\n",
    "    text = file.read()\n",
    "\n",
    "# Split text and write to CSV\n",
    "parts = split_text(text)\n",
    "\n",
    "with open(csv_file, 'w', newline='', encoding='utf-8') as file:\n",
    "    writer = csv.writer(file)\n",
    "    writer.writerow(['Id', 'Session', 'Meeting', 'Speaker', 'Text'])\n",
    "    for part in parts:\n",
    "        writer.writerow(part)"
   ]
  },
  {
   "cell_type": "markdown",
   "metadata": {},
   "source": [
    "## Step 2 : Data Chunking\n",
    "This step splits the data from the csv in chunks, which includes the following steps\n",
    "1. Imports data from the csv\n",
    "2. import the recursive text splitter from langchain\n",
    "3. Read the first row in the df and break down the text column in chunks\n",
    "4. Create a new df (df_chunks) with the an id, session, meeting, speaker and chunk text, where each row is a chunk of the newly chunked texted\n",
    "5. iterate through the df and repeat step 4 above into a df_temp and concat df_chunks with df_temp"
   ]
  },
  {
   "cell_type": "code",
   "execution_count": 4,
   "metadata": {},
   "outputs": [],
   "source": [
    "#import libraries\n",
    "from langchain.text_splitter import RecursiveCharacterTextSplitter\n",
    "import os\n",
    "import re\n",
    "from langchain_community.embeddings import HuggingFaceEmbeddings\n",
    "import json\n",
    "import pandas as pd"
   ]
  },
  {
   "cell_type": "code",
   "execution_count": 6,
   "metadata": {},
   "outputs": [
    {
     "data": {
      "text/html": [
       "<div>\n",
       "<style scoped>\n",
       "    .dataframe tbody tr th:only-of-type {\n",
       "        vertical-align: middle;\n",
       "    }\n",
       "\n",
       "    .dataframe tbody tr th {\n",
       "        vertical-align: top;\n",
       "    }\n",
       "\n",
       "    .dataframe thead th {\n",
       "        text-align: right;\n",
       "    }\n",
       "</style>\n",
       "<table border=\"1\" class=\"dataframe\">\n",
       "  <thead>\n",
       "    <tr style=\"text-align: right;\">\n",
       "      <th></th>\n",
       "      <th>Id</th>\n",
       "      <th>Session</th>\n",
       "      <th>Meeting</th>\n",
       "      <th>Speaker</th>\n",
       "      <th>Text</th>\n",
       "    </tr>\n",
       "  </thead>\n",
       "  <tbody>\n",
       "    <tr>\n",
       "      <th>0</th>\n",
       "      <td>S3M51</td>\n",
       "      <td>3</td>\n",
       "      <td>5</td>\n",
       "      <td>Chairman</td>\n",
       "      <td>Good morning, distinguished delegates. Please ...</td>\n",
       "    </tr>\n",
       "    <tr>\n",
       "      <th>1</th>\n",
       "      <td>S3M52</td>\n",
       "      <td>3</td>\n",
       "      <td>5</td>\n",
       "      <td>Russia</td>\n",
       "      <td>Mr. Chairman. We would like to take the floor ...</td>\n",
       "    </tr>\n",
       "    <tr>\n",
       "      <th>2</th>\n",
       "      <td>S3M53</td>\n",
       "      <td>3</td>\n",
       "      <td>5</td>\n",
       "      <td>Chairman</td>\n",
       "      <td>I thank the distinguished representative of th...</td>\n",
       "    </tr>\n",
       "    <tr>\n",
       "      <th>3</th>\n",
       "      <td>S3M54</td>\n",
       "      <td>3</td>\n",
       "      <td>5</td>\n",
       "      <td>New Zealand</td>\n",
       "      <td>Thank you, Mr. Chair, when New Zealand conside...</td>\n",
       "    </tr>\n",
       "    <tr>\n",
       "      <th>4</th>\n",
       "      <td>S3M55</td>\n",
       "      <td>3</td>\n",
       "      <td>5</td>\n",
       "      <td>Chairman</td>\n",
       "      <td>I thank the distinguished representative of Ne...</td>\n",
       "    </tr>\n",
       "  </tbody>\n",
       "</table>\n",
       "</div>"
      ],
      "text/plain": [
       "      Id  Session  Meeting      Speaker  \\\n",
       "0  S3M51        3        5     Chairman   \n",
       "1  S3M52        3        5       Russia   \n",
       "2  S3M53        3        5     Chairman   \n",
       "3  S3M54        3        5  New Zealand   \n",
       "4  S3M55        3        5     Chairman   \n",
       "\n",
       "                                                Text  \n",
       "0  Good morning, distinguished delegates. Please ...  \n",
       "1  Mr. Chairman. We would like to take the floor ...  \n",
       "2  I thank the distinguished representative of th...  \n",
       "3  Thank you, Mr. Chair, when New Zealand conside...  \n",
       "4  I thank the distinguished representative of Ne...  "
      ]
     },
     "execution_count": 6,
     "metadata": {},
     "output_type": "execute_result"
    }
   ],
   "source": [
    "df = pd.read_csv(csv_file)\n",
    "df.head()"
   ]
  },
  {
   "cell_type": "code",
   "execution_count": 7,
   "metadata": {},
   "outputs": [],
   "source": [
    "#define the text splitter\n",
    "def chucking_text(text):\n",
    "    textsplitter = RecursiveCharacterTextSplitter(\n",
    "        chunk_size=512,\n",
    "        chunk_overlap=128,\n",
    "        length_function=len,\n",
    "        is_separator_regex=False,\n",
    "    )\n",
    "    TextChunks = textsplitter.split_text(text)\n",
    "    return TextChunks\n"
   ]
  },
  {
   "cell_type": "code",
   "execution_count": 8,
   "metadata": {},
   "outputs": [
    {
     "name": "stdout",
     "output_type": "stream",
     "text": [
      "Id: S3M51\n",
      "Session: [3]\n",
      "Meeting: [5]\n",
      "Speaker: ['Chairman']\n",
      "Text: Good morning, distinguished delegates. Please take your seats. Good morning. Ladies and gentlemen, distinguished delegates. Please take your seats. We will begin now. I would now like to continue our work under agenda item 6C, which is to make recommendations on possible norms, rules and principles of responsible behaviours relating to threats by states to space systems, including, as appropriate, how they would contribute to the negotiation of legally binding instruments, including on the prevention of an arms race in outer space. This morning, we will begin our consideration of topic 2B of the indicative timetable, which is norms, rules and principles relating to counter space capabilities, including space to Earth and space to space threats. Before I give the floor to any delegation that wishes to intervene under this topic, I would like to inform that there will be a family picture taken, as is already tradition, at 1:00 today in this room. There was another proposal to do it outside, but it's rather cold, so we will do it here at 1:00. The floor is now open for consideration of topic to be. I understand that some delegations have already referred to this topic in their first intervention on the 2A, but maybe some other delegation may wish to intervene on this topic Right now. I repeat norms, rules and principles related to counter space capabilities, including space to Earth and space to space threats. Please raise your placards and if possible, please send your statements to the e-mail address speeches@un.org.  I opened the floor. I see the distinguished representative of the Russian Federation. You have the floor, Sir.\n",
      "Chunks: ['Good morning, distinguished delegates. Please take your seats. Good morning. Ladies and gentlemen, distinguished delegates. Please take your seats. We will begin now. I would now like to continue our work under agenda item 6C, which is to make recommendations on possible norms, rules and principles of responsible behaviours relating to threats by states to space systems, including, as appropriate, how they would contribute to the negotiation of legally binding instruments, including on the prevention of an', 'as appropriate, how they would contribute to the negotiation of legally binding instruments, including on the prevention of an arms race in outer space. This morning, we will begin our consideration of topic 2B of the indicative timetable, which is norms, rules and principles relating to counter space capabilities, including space to Earth and space to space threats. Before I give the floor to any delegation that wishes to intervene under this topic, I would like to inform that there will be a family', \"give the floor to any delegation that wishes to intervene under this topic, I would like to inform that there will be a family picture taken, as is already tradition, at 1:00 today in this room. There was another proposal to do it outside, but it's rather cold, so we will do it here at 1:00. The floor is now open for consideration of topic to be. I understand that some delegations have already referred to this topic in their first intervention on the 2A, but maybe some other delegation may wish to\", 'have already referred to this topic in their first intervention on the 2A, but maybe some other delegation may wish to intervene on this topic Right now. I repeat norms, rules and principles related to counter space capabilities, including space to Earth and space to space threats. Please raise your placards and if possible, please send your statements to the e-mail address speeches@un.org.  I opened the floor. I see the distinguished representative of the Russian Federation. You have the floor, Sir.']\n"
     ]
    }
   ],
   "source": [
    "#retrive the first text in the first row of df in a list \n",
    "text = df['Text'][0]\n",
    "id = df['Id'][0]\n",
    "session = [df['Session'][0]]\n",
    "meeting = [df['Meeting'][0]]\n",
    "speaker = [df['Speaker'][0]]\n",
    "chunks = chucking_text(text)\n",
    "\n",
    "#print id, session, meeting ,speaker and chunks on newlines\n",
    "print('Id:', id)\n",
    "print('Session:', session)\n",
    "print('Meeting:', meeting)\n",
    "print('Speaker:', speaker)\n",
    "print('Text:', text)\n",
    "print('Chunks:', chunks)"
   ]
  },
  {
   "cell_type": "code",
   "execution_count": 9,
   "metadata": {},
   "outputs": [
    {
     "data": {
      "text/html": [
       "<div>\n",
       "<style scoped>\n",
       "    .dataframe tbody tr th:only-of-type {\n",
       "        vertical-align: middle;\n",
       "    }\n",
       "\n",
       "    .dataframe tbody tr th {\n",
       "        vertical-align: top;\n",
       "    }\n",
       "\n",
       "    .dataframe thead th {\n",
       "        text-align: right;\n",
       "    }\n",
       "</style>\n",
       "<table border=\"1\" class=\"dataframe\">\n",
       "  <thead>\n",
       "    <tr style=\"text-align: right;\">\n",
       "      <th></th>\n",
       "      <th>Id</th>\n",
       "      <th>Session</th>\n",
       "      <th>Meeting</th>\n",
       "      <th>Speaker</th>\n",
       "      <th>Text</th>\n",
       "    </tr>\n",
       "  </thead>\n",
       "  <tbody>\n",
       "    <tr>\n",
       "      <th>0</th>\n",
       "      <td>S3M511</td>\n",
       "      <td>3</td>\n",
       "      <td>5</td>\n",
       "      <td>Chairman</td>\n",
       "      <td>Good morning, distinguished delegates. Please ...</td>\n",
       "    </tr>\n",
       "    <tr>\n",
       "      <th>1</th>\n",
       "      <td>S3M512</td>\n",
       "      <td>3</td>\n",
       "      <td>5</td>\n",
       "      <td>Chairman</td>\n",
       "      <td>as appropriate, how they would contribute to t...</td>\n",
       "    </tr>\n",
       "    <tr>\n",
       "      <th>2</th>\n",
       "      <td>S3M513</td>\n",
       "      <td>3</td>\n",
       "      <td>5</td>\n",
       "      <td>Chairman</td>\n",
       "      <td>give the floor to any delegation that wishes t...</td>\n",
       "    </tr>\n",
       "    <tr>\n",
       "      <th>3</th>\n",
       "      <td>S3M514</td>\n",
       "      <td>3</td>\n",
       "      <td>5</td>\n",
       "      <td>Chairman</td>\n",
       "      <td>have already referred to this topic in their f...</td>\n",
       "    </tr>\n",
       "  </tbody>\n",
       "</table>\n",
       "</div>"
      ],
      "text/plain": [
       "       Id  Session  Meeting   Speaker  \\\n",
       "0  S3M511        3        5  Chairman   \n",
       "1  S3M512        3        5  Chairman   \n",
       "2  S3M513        3        5  Chairman   \n",
       "3  S3M514        3        5  Chairman   \n",
       "\n",
       "                                                Text  \n",
       "0  Good morning, distinguished delegates. Please ...  \n",
       "1  as appropriate, how they would contribute to t...  \n",
       "2  give the floor to any delegation that wishes t...  \n",
       "3  have already referred to this topic in their f...  "
      ]
     },
     "execution_count": 9,
     "metadata": {},
     "output_type": "execute_result"
    }
   ],
   "source": [
    "#create a df where text is each chunk\n",
    "session = session * len(chunks)\n",
    "meeting = meeting * len(chunks)\n",
    "speaker = speaker * len(chunks)\n",
    "chunk_ids = []\n",
    "i= 1\n",
    "for chunk in chunks:\n",
    "    chunk_id = f'{id}{i}'\n",
    "    i+=1\n",
    "    chunk_ids.append(chunk_id)\n",
    "\n",
    "df_chunks = pd.DataFrame({\n",
    "    'Id': chunk_ids,\n",
    "    'Session': session,\n",
    "    'Meeting': meeting,\n",
    "    'Speaker' : speaker,\n",
    "    'Text' : chunks\n",
    "})\n",
    "\n",
    "df_chunks.head()\n"
   ]
  },
  {
   "cell_type": "code",
   "execution_count": 10,
   "metadata": {},
   "outputs": [],
   "source": [
    "#iterate the step above for all the rows in the df\n",
    "for i in range(1, len(df)):\n",
    "    text = df['Text'][i]\n",
    "    id = df['Id'][i]\n",
    "    session = [df['Session'][i]]\n",
    "    meeting = [df['Meeting'][i]]\n",
    "    speaker = [df['Speaker'][i]]\n",
    "    chunks = chucking_text(text)\n",
    "    session = session * len(chunks)\n",
    "    meeting = meeting * len(chunks)\n",
    "    speaker = speaker * len(chunks)\n",
    "    chunk_ids = []\n",
    "    i= 1\n",
    "    for chunk in chunks:\n",
    "        chunk_id = f'{id}{i}'\n",
    "        i+=1\n",
    "        chunk_ids.append(chunk_id)\n",
    "\n",
    "    df_temp = pd.DataFrame({\n",
    "        'Id': chunk_ids,\n",
    "        'Session': session,\n",
    "        'Meeting': meeting,\n",
    "        'Speaker' : speaker,\n",
    "        'Text' : chunks\n",
    "    })\n",
    "    df_chunks = pd.concat([df_chunks, df_temp])"
   ]
  },
  {
   "cell_type": "code",
   "execution_count": 11,
   "metadata": {},
   "outputs": [],
   "source": [
    "#convert data to vector embeddings\n",
    "def generate_embeddings(text):\n",
    "    embedding_model = HuggingFaceEmbeddings(model_name=\"sentence-transformers/all-mpnet-base-v2\")\n",
    "    embeddings = embedding_model.embed_query(text)\n",
    "    return embeddings\n"
   ]
  },
  {
   "cell_type": "code",
   "execution_count": 12,
   "metadata": {},
   "outputs": [
    {
     "name": "stderr",
     "output_type": "stream",
     "text": [
      "/Library/Frameworks/Python.framework/Versions/3.11/lib/python3.11/site-packages/tqdm/auto.py:21: TqdmWarning: IProgress not found. Please update jupyter and ipywidgets. See https://ipywidgets.readthedocs.io/en/stable/user_install.html\n",
      "  from .autonotebook import tqdm as notebook_tqdm\n"
     ]
    }
   ],
   "source": [
    "#create a new column in the df_chunks with the embeddings and add the embeded each text \n",
    "df_chunks['TextEmbeddings'] = df_chunks['Text'].apply(generate_embeddings)"
   ]
  },
  {
   "cell_type": "code",
   "execution_count": 13,
   "metadata": {},
   "outputs": [],
   "source": [
    "df_chunks['SpeakerEmbeddings'] = df_chunks['Speaker'].apply(generate_embeddings)"
   ]
  },
  {
   "cell_type": "code",
   "execution_count": 14,
   "metadata": {},
   "outputs": [
    {
     "data": {
      "text/html": [
       "<div>\n",
       "<style scoped>\n",
       "    .dataframe tbody tr th:only-of-type {\n",
       "        vertical-align: middle;\n",
       "    }\n",
       "\n",
       "    .dataframe tbody tr th {\n",
       "        vertical-align: top;\n",
       "    }\n",
       "\n",
       "    .dataframe thead th {\n",
       "        text-align: right;\n",
       "    }\n",
       "</style>\n",
       "<table border=\"1\" class=\"dataframe\">\n",
       "  <thead>\n",
       "    <tr style=\"text-align: right;\">\n",
       "      <th></th>\n",
       "      <th>Id</th>\n",
       "      <th>Session</th>\n",
       "      <th>Meeting</th>\n",
       "      <th>Speaker</th>\n",
       "      <th>Text</th>\n",
       "      <th>TextEmbeddings</th>\n",
       "      <th>SpeakerEmbeddings</th>\n",
       "    </tr>\n",
       "  </thead>\n",
       "  <tbody>\n",
       "    <tr>\n",
       "      <th>0</th>\n",
       "      <td>S3M511</td>\n",
       "      <td>3</td>\n",
       "      <td>5</td>\n",
       "      <td>Chairman</td>\n",
       "      <td>Good morning, distinguished delegates. Please ...</td>\n",
       "      <td>[0.07812656462192535, -0.008435213938355446, 0...</td>\n",
       "      <td>[0.028822308406233788, 0.05176027491688728, 0....</td>\n",
       "    </tr>\n",
       "    <tr>\n",
       "      <th>1</th>\n",
       "      <td>S3M512</td>\n",
       "      <td>3</td>\n",
       "      <td>5</td>\n",
       "      <td>Chairman</td>\n",
       "      <td>as appropriate, how they would contribute to t...</td>\n",
       "      <td>[0.0780441015958786, -0.014860063791275024, 0....</td>\n",
       "      <td>[0.028822308406233788, 0.05176027491688728, 0....</td>\n",
       "    </tr>\n",
       "    <tr>\n",
       "      <th>2</th>\n",
       "      <td>S3M513</td>\n",
       "      <td>3</td>\n",
       "      <td>5</td>\n",
       "      <td>Chairman</td>\n",
       "      <td>give the floor to any delegation that wishes t...</td>\n",
       "      <td>[-0.010861157439649105, 0.08269672840833664, -...</td>\n",
       "      <td>[0.028822308406233788, 0.05176027491688728, 0....</td>\n",
       "    </tr>\n",
       "    <tr>\n",
       "      <th>3</th>\n",
       "      <td>S3M514</td>\n",
       "      <td>3</td>\n",
       "      <td>5</td>\n",
       "      <td>Chairman</td>\n",
       "      <td>have already referred to this topic in their f...</td>\n",
       "      <td>[0.08796455711126328, -0.015926294028759003, 0...</td>\n",
       "      <td>[0.028822308406233788, 0.05176027491688728, 0....</td>\n",
       "    </tr>\n",
       "    <tr>\n",
       "      <th>0</th>\n",
       "      <td>S3M521</td>\n",
       "      <td>3</td>\n",
       "      <td>5</td>\n",
       "      <td>Russia</td>\n",
       "      <td>Mr. Chairman. We would like to take the floor ...</td>\n",
       "      <td>[0.07228662818670273, -0.050627969205379486, 0...</td>\n",
       "      <td>[0.04608728364109993, -0.003700980683788657, -...</td>\n",
       "    </tr>\n",
       "  </tbody>\n",
       "</table>\n",
       "</div>"
      ],
      "text/plain": [
       "       Id  Session  Meeting   Speaker  \\\n",
       "0  S3M511        3        5  Chairman   \n",
       "1  S3M512        3        5  Chairman   \n",
       "2  S3M513        3        5  Chairman   \n",
       "3  S3M514        3        5  Chairman   \n",
       "0  S3M521        3        5    Russia   \n",
       "\n",
       "                                                Text  \\\n",
       "0  Good morning, distinguished delegates. Please ...   \n",
       "1  as appropriate, how they would contribute to t...   \n",
       "2  give the floor to any delegation that wishes t...   \n",
       "3  have already referred to this topic in their f...   \n",
       "0  Mr. Chairman. We would like to take the floor ...   \n",
       "\n",
       "                                      TextEmbeddings  \\\n",
       "0  [0.07812656462192535, -0.008435213938355446, 0...   \n",
       "1  [0.0780441015958786, -0.014860063791275024, 0....   \n",
       "2  [-0.010861157439649105, 0.08269672840833664, -...   \n",
       "3  [0.08796455711126328, -0.015926294028759003, 0...   \n",
       "0  [0.07228662818670273, -0.050627969205379486, 0...   \n",
       "\n",
       "                                   SpeakerEmbeddings  \n",
       "0  [0.028822308406233788, 0.05176027491688728, 0....  \n",
       "1  [0.028822308406233788, 0.05176027491688728, 0....  \n",
       "2  [0.028822308406233788, 0.05176027491688728, 0....  \n",
       "3  [0.028822308406233788, 0.05176027491688728, 0....  \n",
       "0  [0.04608728364109993, -0.003700980683788657, -...  "
      ]
     },
     "execution_count": 14,
     "metadata": {},
     "output_type": "execute_result"
    }
   ],
   "source": [
    "df_chunks.head()"
   ]
  },
  {
   "cell_type": "code",
   "execution_count": 15,
   "metadata": {},
   "outputs": [],
   "source": [
    "#read each row into a dictionary and store in a list\n",
    "rows = []\n",
    "for i in range(len(df_chunks)):\n",
    "    row = df_chunks.iloc[i].to_dict()\n",
    "    rows.append(row)"
   ]
  },
  {
   "cell_type": "code",
   "execution_count": 20,
   "metadata": {},
   "outputs": [
    {
     "data": {
      "text/plain": [
       "319"
      ]
     },
     "execution_count": 20,
     "metadata": {},
     "output_type": "execute_result"
    }
   ],
   "source": [
    "len(rows)"
   ]
  },
  {
   "cell_type": "code",
   "execution_count": 21,
   "metadata": {},
   "outputs": [],
   "source": [
    "#save df_chunks as a csv file\n",
    "df_chunks.to_csv('/Users/pelumioluwaabiola/Desktop/Transcriptions/detailed_data/Meeting_5_Session_3.csv', index=False)"
   ]
  },
  {
   "cell_type": "code",
   "execution_count": 19,
   "metadata": {},
   "outputs": [],
   "source": [
    "#save in a json file\n",
    "with open(f\"{'/Users/pelumioluwaabiola/Desktop/Transcriptions/detailed_data/Meeting_5_Session_3'}.json\", \"w\") as f:\n",
    "    json.dump(rows, f)\n"
   ]
  }
 ],
 "metadata": {
  "kernelspec": {
   "display_name": "Python 3",
   "language": "python",
   "name": "python3"
  },
  "language_info": {
   "codemirror_mode": {
    "name": "ipython",
    "version": 3
   },
   "file_extension": ".py",
   "mimetype": "text/x-python",
   "name": "python",
   "nbconvert_exporter": "python",
   "pygments_lexer": "ipython3",
   "version": "3.11.5"
  }
 },
 "nbformat": 4,
 "nbformat_minor": 2
}

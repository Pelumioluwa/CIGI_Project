{
 "cells": [
  {
   "cell_type": "markdown",
   "metadata": {},
   "source": [
    "## This notebook creates search index of the OEWG Space Threat meetings on Azure AI Search\n",
    "The following steps were implemented\n",
    "1. Connected to Azure AI search \n",
    "2. Created an index with id name 'oewg-speech-meeeting-index'\n",
    "4. Loaded the csv file and Checked to make sure there are no duplicate values in id column\n",
    "5. Saved the csv file with our data into a list of dictionaries (dictionary keys are the column names)\n",
    "6. upload the data into the index as new items"
   ]
  },
  {
   "cell_type": "code",
   "execution_count": 1,
   "metadata": {},
   "outputs": [],
   "source": [
    "from dotenv import dotenv_values\n",
    "from azure.search.documents.indexes import SearchIndexClient\n",
    "import requests\n",
    "import json\n",
    "import re\n",
    "import pandas as pd\n",
    "\n"
   ]
  },
  {
   "cell_type": "code",
   "execution_count": 2,
   "metadata": {},
   "outputs": [],
   "source": [
    "#import ai search credentials \n",
    "config = dotenv_values('/Users/pelumioluwaabiola/Desktop/Transcriptions/credential.env')\n",
    "ai_search_location = config['ai_search_location']\n",
    "ai_search_key = config['ai_search_key']\n",
    "ai_search_url = config['ai_search_url']\n",
    "ai_search_index = 'oewg-speech-meeeting-index'\n",
    "ai_search_name = 'aicpcigi'\n",
    "embedding_length = 768"
   ]
  },
  {
   "cell_type": "code",
   "execution_count": 3,
   "metadata": {},
   "outputs": [],
   "source": [
    "#connect to AI search \n",
    "index_client = SearchIndexClient(endpoint=ai_search_url, credential=ai_search_key)"
   ]
  },
  {
   "cell_type": "code",
   "execution_count": 5,
   "metadata": {},
   "outputs": [
    {
     "name": "stdout",
     "output_type": "stream",
     "text": [
      "Index created!\n"
     ]
    }
   ],
   "source": [
    "# Length of the embedding vector \n",
    "EMBEDDING_LENGTH = 768\n",
    "\n",
    "# Create index for AI Search with fields \n",
    "# Note the datatypes for each field below\n",
    "url = f\"https://{ai_search_name}.search.windows.net/indexes/{ai_search_index}?api-version=2023-11-01\"\n",
    "payload = json.dumps(\n",
    "    {\n",
    "        \"name\": ai_search_index,\n",
    "        \"fields\": [\n",
    "            # Unique identifier for each document\n",
    "            {\n",
    "                \"name\": \"id\",\n",
    "                \"type\": \"Edm.String\",\n",
    "                \"key\": True,\n",
    "                \"filterable\": True,\n",
    "                \"sortable\": True,\n",
    "                \"retrievable\": True,\n",
    "            },\n",
    "            # session name of the document\n",
    "            {\n",
    "                \"name\": \"Session\",\n",
    "                \"type\": \"Edm.String\",\n",
    "                \"filterable\": True,\n",
    "                \"sortable\": True,\n",
    "                \"retrievable\": True,\n",
    "            },\n",
    "            # meeting number of the document\n",
    "            {\n",
    "                \"name\": \"Meeting\",\n",
    "                \"type\": \"Edm.String\",\n",
    "                \"filterable\": True,\n",
    "                \"sortable\": True,\n",
    "                \"retrievable\": True,\n",
    "            },\n",
    "            # name of speaker\n",
    "            {\n",
    "                \"name\": \"Speaker\",\n",
    "                \"type\": \"Edm.String\",\n",
    "                \"filterable\": True,\n",
    "                \"searchable\": True,\n",
    "                \"sortable\": True,\n",
    "                \"retrievable\": True,\n",
    "            },\n",
    "            #Speech Text\n",
    "            {\n",
    "                \"name\": \"Text\",\n",
    "                \"type\": \"Edm.String\",\n",
    "                \"filterable\": True,\n",
    "                \"sortable\": True,\n",
    "                \"searchable\": True,\n",
    "                \"retrievable\": True,\n",
    "            },\n",
    "            #Cluster Label\n",
    "            {\n",
    "                \"name\": \"ClusterLabel\",\n",
    "                \"type\": \"Edm.String\",\n",
    "                \"filterable\": True,\n",
    "                \"sortable\": True,\n",
    "                \"searchable\": True,\n",
    "                \"retrievable\": True,\n",
    "            },\n",
    "            # Vector embedding of the text content\n",
    "            {\n",
    "                \"name\": \"TextEmbeddings\",\n",
    "                \"type\": \"Collection(Edm.Single)\",\n",
    "                \"searchable\": True,\n",
    "                \"retrievable\": True,\n",
    "                \"dimensions\": EMBEDDING_LENGTH,\n",
    "                \"vectorSearchProfile\": \"vectorConfig\",\n",
    "            },\n",
    "        ],\n",
    "        \"vectorSearch\": {\n",
    "            \"algorithms\": [{\"name\": \"hnswConfig\", \"kind\": \"hnsw\", \"hnswParameters\": {\"metric\": \"cosine\"}}],\n",
    "            \"profiles\": [{\"name\": \"vectorConfig\", \"algorithm\": \"hnswConfig\"}],\n",
    "        },\n",
    "    }\n",
    ")\n",
    "headers = {\"Content-Type\": \"application/json\", \"api-key\": ai_search_key}\n",
    "\n",
    "response = requests.request(\"PUT\", url, headers=headers, data=payload)\n",
    "if response.status_code == 201:\n",
    "    print(\"Index created!\")\n",
    "elif response.status_code == 204:\n",
    "    print(\"Index updated!\")\n",
    "else:\n",
    "    print(f\"HTTP request failed with status code {response.status_code}\")\n",
    "    print(f\"HTTP response body: {response.text}\")"
   ]
  },
  {
   "cell_type": "code",
   "execution_count": 159,
   "metadata": {},
   "outputs": [],
   "source": [
    "#read csv file\n",
    "df = pd.read_csv('/Users/pelumioluwaabiola/Desktop/Transcriptions/detailed_data/Meeting_5_Session_3.csv')  "
   ]
  },
  {
   "cell_type": "code",
   "execution_count": 160,
   "metadata": {},
   "outputs": [
    {
     "data": {
      "text/html": [
       "<div>\n",
       "<style scoped>\n",
       "    .dataframe tbody tr th:only-of-type {\n",
       "        vertical-align: middle;\n",
       "    }\n",
       "\n",
       "    .dataframe tbody tr th {\n",
       "        vertical-align: top;\n",
       "    }\n",
       "\n",
       "    .dataframe thead th {\n",
       "        text-align: right;\n",
       "    }\n",
       "</style>\n",
       "<table border=\"1\" class=\"dataframe\">\n",
       "  <thead>\n",
       "    <tr style=\"text-align: right;\">\n",
       "      <th></th>\n",
       "      <th>id</th>\n",
       "      <th>Session</th>\n",
       "      <th>Meeting</th>\n",
       "      <th>Speaker</th>\n",
       "      <th>Text</th>\n",
       "      <th>TextEmbeddings</th>\n",
       "      <th>SpeakerEmbeddings</th>\n",
       "    </tr>\n",
       "  </thead>\n",
       "  <tbody>\n",
       "  </tbody>\n",
       "</table>\n",
       "</div>"
      ],
      "text/plain": [
       "Empty DataFrame\n",
       "Columns: [id, Session, Meeting, Speaker, Text, TextEmbeddings, SpeakerEmbeddings]\n",
       "Index: []"
      ]
     },
     "execution_count": 160,
     "metadata": {},
     "output_type": "execute_result"
    }
   ],
   "source": [
    "#check if there are dulplicate values in id column and print the duplicate rows\n",
    "duplicate = df[df.duplicated(['id'])]\n",
    "duplicate"
   ]
  },
  {
   "cell_type": "code",
   "execution_count": 172,
   "metadata": {},
   "outputs": [],
   "source": [
    "#read row by row and append to a list\n",
    "data = []\n",
    "for index, row in df.iterrows():\n",
    "    row_dict = {}\n",
    "    row_dict['id'] = row['id']\n",
    "    row_dict['Session'] = str(row['Session'])\n",
    "    row_dict['Meeting'] = str(row['Meeting'])\n",
    "    row_dict['Speaker'] = row['Speaker']\n",
    "    row_dict['Text'] = row['Text']\n",
    "    #convert text embeddings to list\n",
    "    row_dict['TextEmbeddings'] = json.loads(row['TextEmbeddings'])\n",
    "    row_dict['SpeakerEmbeddings'] = json.loads(row['SpeakerEmbeddings'])\n",
    "    row_dict['@search.action'] = 'upload'\n",
    "    data.append(row_dict)"
   ]
  },
  {
   "cell_type": "code",
   "execution_count": 178,
   "metadata": {},
   "outputs": [
    {
     "name": "stdout",
     "output_type": "stream",
     "text": [
      "upload status: Success\n"
     ]
    }
   ],
   "source": [
    "\n",
    "def insert_into_index(documents):\n",
    "    \"\"\"Uploads a list of 'documents' to Azure AI Search index.\"\"\"\n",
    "\n",
    "    url = f\"https://{ai_search_name}.search.windows.net/indexes/{ai_search_index}/docs/index?api-version=2023-11-01\"\n",
    "\n",
    "    payload = json.dumps({\"value\": documents})\n",
    "    headers = {\n",
    "        \"Content-Type\": \"application/json\",\n",
    "        \"api-key\": ai_search_key,\n",
    "    }\n",
    "\n",
    "    response = requests.request(\"POST\", url, headers=headers, data=payload)\n",
    "\n",
    "    if response.status_code == 200 or response.status_code == 201:\n",
    "        return \"Success\"\n",
    "    else:\n",
    "        return f\"Failure: {response.text}\"\n",
    "\n",
    "def make_safe_id(row_id: str):\n",
    "    \"\"\"Strips disallowed characters from row id for use as Azure AI search document ID.\"\"\"\n",
    "    return re.sub(\"[^0-9a-zA-Z_-]\", \"_\", row_id)\n",
    "\n",
    "#upload data in batchs of 1000\n",
    "BATCH_SIZE = 1000\n",
    "for i in range(0, len(data), BATCH_SIZE):\n",
    "    batch = data[i:i+BATCH_SIZE]\n",
    "    status = insert_into_index(batch)\n",
    "    print(f'upload status: {status}')\n"
   ]
  }
 ],
 "metadata": {
  "kernelspec": {
   "display_name": "Python 3",
   "language": "python",
   "name": "python3"
  },
  "language_info": {
   "codemirror_mode": {
    "name": "ipython",
    "version": 3
   },
   "file_extension": ".py",
   "mimetype": "text/x-python",
   "name": "python",
   "nbconvert_exporter": "python",
   "pygments_lexer": "ipython3",
   "version": "3.11.5"
  }
 },
 "nbformat": 4,
 "nbformat_minor": 2
}
